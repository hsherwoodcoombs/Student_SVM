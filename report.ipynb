{
 "cells": [
  {
   "cell_type": "markdown",
   "metadata": {
    "collapsed": true
   },
   "source": [
    "# <center>Project 2: Building a Student Intervention System</center>"
   ]
  },
  {
   "cell_type": "markdown",
   "metadata": {},
   "source": [
    "## Supervised Learning Project\n",
    "\n",
    "**Supervised learning** is a method a computational method used to predict target values. This method works by developing a link between two sets: **observed data** (x) and **external data** (y), that which we want to predict. \n",
    "\n",
    "The goal for this project is to identify students who may need early intervention before they fail to graduate; that is classify the students into labels. Therefor we will be looking at learning from our observed student data to be able to predict a students chance of passing, this will be the external data). "
   ]
  },
  {
   "cell_type": "markdown",
   "metadata": {},
   "source": [
    "# I. Classification vs. Regression\n",
    "* *__Question 1__: Your goal is to identify students who might need early intervention - which type of supervised machine learning problem is this, classification or regression? Why?* \n",
    "\n",
    "This project explores **binary classification** because the goal is to identify (and classify) the students whom need intervention to prevent failure. Classification takes discrete class labels as inputs and evaluates a decision boundary. The evaluation is based on accuracy. "
   ]
  },
  {
   "cell_type": "markdown",
   "metadata": {},
   "source": [
    "# II. Exploring The Data\n",
    "Data is divided between features and our target (passed). \n",
    "\n",
    "\n",
    "\n",
    "### We can make a number of observations simply off the dataset and some useful utilities including graduation rate:\n",
    "\n",
    "Total number of students: 395\n",
    "\n",
    "Number of features (excluding the target column): 30\n",
    "\n",
    "Number of students who passed: 265\n",
    "\n",
    "Number of students who failed: 130\n",
    "\n",
    "Graduation rate of the class: 67.09%\n"
   ]
  },
  {
   "cell_type": "markdown",
   "metadata": {},
   "source": [
    "1) Load the libraries"
   ]
  },
  {
   "cell_type": "code",
   "execution_count": 2,
   "metadata": {
    "collapsed": false
   },
   "outputs": [],
   "source": [
    "# Loading the libraries\n",
    "# Import statements \n",
    "# Libraries\n",
    "import numpy as np\n",
    "import pandas as pd\n",
    "import sklearn\n",
    "import scipy.stats as stats\n",
    "import matplotlib as mpl\n",
    "import matplotlib.pyplot as plt\n",
    "import seaborn as sns\n",
    "plt.style.use('ggplot')\n",
    "from time import time\n",
    "\n",
    "# Libraries for metric functions\n",
    "from sklearn.metrics import (f1_score, accuracy_score, make_scorer, fbeta_score, \n",
    "                             brier_score_loss, precision_score, recall_score)\n",
    "from sklearn.metrics import classification_report, confusion_matrix\n",
    "\n",
    "# Libraries used for classification models\n",
    "from sklearn.linear_model import LogisticRegression\n",
    "from sklearn.svm import SVC, LinearSVC\n",
    "from sklearn import neighbors\n",
    "from sklearn import tree\n",
    "from sklearn.naive_bayes import GaussianNB\n",
    "\n",
    "# Other utilities\n",
    "from sklearn import cross_validation\n",
    "from sklearn.cross_validation import train_test_split\n",
    "from sklearn.grid_search import GridSearchCV\n",
    "from sklearn.feature_selection import RFE\n",
    "from sklearn.calibration import CalibratedClassifierCV, calibration_curve\n",
    "\n",
    "# Import functions from other python document\n",
    "from student_functions import (preprocess_features,\n",
    "                               plot_confusion_matrix,\n",
    "                               plot_calibration_curve)\n",
    "\n",
    "# Pretty display for notebooks\n",
    "%matplotlib inline\n",
    "from IPython.display import display"
   ]
  },
  {
   "cell_type": "markdown",
   "metadata": {},
   "source": [
    "2) Load the student data from a CSV file and save as new dataframe @student_data"
   ]
  },
  {
   "cell_type": "code",
   "execution_count": 243,
   "metadata": {
    "collapsed": false
   },
   "outputs": [
    {
     "name": "stdout",
     "output_type": "stream",
     "text": [
      "Student data read successfully!\n"
     ]
    }
   ],
   "source": [
    "# Read student data\n",
    "student_data = pd.read_csv(\"student-data.csv\")\n",
    "target = student_data['passed']\n",
    "print \"Student data read successfully!\"\n",
    "\n",
    "# create another dataframe for playing around with!\n",
    "data = pd.read_csv('student-data.csv', header=0)\n",
    "outcome_passed = data['passed']\n",
    "outcome_passed_num = outcome_passed.replace(['yes', 'no'], [1,0])\n",
    "features = data.drop('passed', axis = 1)\n",
    "features_num = preprocess_features(features)"
   ]
  },
  {
   "cell_type": "markdown",
   "metadata": {},
   "source": [
    "3) Explore the data with some useful scikit learn utilities.\n",
    "   - Print @student_data data type information\n",
    "   - Print the first 3 indeces to get a feel for the features and data\n",
    "   - List the keys of @student_data\n",
    "   - Print descriptions of the features"
   ]
  },
  {
   "cell_type": "code",
   "execution_count": 4,
   "metadata": {
    "collapsed": false
   },
   "outputs": [
    {
     "name": "stdout",
     "output_type": "stream",
     "text": [
      "<class 'pandas.core.frame.DataFrame'>\n",
      "RangeIndex: 395 entries, 0 to 394\n",
      "Data columns (total 31 columns):\n",
      "school        395 non-null object\n",
      "sex           395 non-null object\n",
      "age           395 non-null int64\n",
      "address       395 non-null object\n",
      "famsize       395 non-null object\n",
      "Pstatus       395 non-null object\n",
      "Medu          395 non-null int64\n",
      "Fedu          395 non-null int64\n",
      "Mjob          395 non-null object\n",
      "Fjob          395 non-null object\n",
      "reason        395 non-null object\n",
      "guardian      395 non-null object\n",
      "traveltime    395 non-null int64\n",
      "studytime     395 non-null int64\n",
      "failures      395 non-null int64\n",
      "schoolsup     395 non-null object\n",
      "famsup        395 non-null object\n",
      "paid          395 non-null object\n",
      "activities    395 non-null object\n",
      "nursery       395 non-null object\n",
      "higher        395 non-null object\n",
      "internet      395 non-null object\n",
      "romantic      395 non-null object\n",
      "famrel        395 non-null int64\n",
      "freetime      395 non-null int64\n",
      "goout         395 non-null int64\n",
      "Dalc          395 non-null int64\n",
      "Walc          395 non-null int64\n",
      "health        395 non-null int64\n",
      "absences      395 non-null int64\n",
      "passed        395 non-null object\n",
      "dtypes: int64(13), object(18)\n",
      "memory usage: 95.7+ KB\n"
     ]
    }
   ],
   "source": [
    "# Returns information on @student_data data types \n",
    "student_data.info()"
   ]
  },
  {
   "cell_type": "code",
   "execution_count": 5,
   "metadata": {
    "collapsed": false
   },
   "outputs": [
    {
     "data": {
      "text/html": [
       "<div>\n",
       "<table border=\"1\" class=\"dataframe\">\n",
       "  <thead>\n",
       "    <tr style=\"text-align: right;\">\n",
       "      <th></th>\n",
       "      <th>school</th>\n",
       "      <th>sex</th>\n",
       "      <th>age</th>\n",
       "      <th>address</th>\n",
       "      <th>famsize</th>\n",
       "      <th>Pstatus</th>\n",
       "      <th>Medu</th>\n",
       "      <th>Fedu</th>\n",
       "      <th>Mjob</th>\n",
       "      <th>Fjob</th>\n",
       "      <th>...</th>\n",
       "      <th>internet</th>\n",
       "      <th>romantic</th>\n",
       "      <th>famrel</th>\n",
       "      <th>freetime</th>\n",
       "      <th>goout</th>\n",
       "      <th>Dalc</th>\n",
       "      <th>Walc</th>\n",
       "      <th>health</th>\n",
       "      <th>absences</th>\n",
       "      <th>passed</th>\n",
       "    </tr>\n",
       "  </thead>\n",
       "  <tbody>\n",
       "    <tr>\n",
       "      <th>0</th>\n",
       "      <td>GP</td>\n",
       "      <td>F</td>\n",
       "      <td>18</td>\n",
       "      <td>U</td>\n",
       "      <td>GT3</td>\n",
       "      <td>A</td>\n",
       "      <td>4</td>\n",
       "      <td>4</td>\n",
       "      <td>at_home</td>\n",
       "      <td>teacher</td>\n",
       "      <td>...</td>\n",
       "      <td>no</td>\n",
       "      <td>no</td>\n",
       "      <td>4</td>\n",
       "      <td>3</td>\n",
       "      <td>4</td>\n",
       "      <td>1</td>\n",
       "      <td>1</td>\n",
       "      <td>3</td>\n",
       "      <td>6</td>\n",
       "      <td>no</td>\n",
       "    </tr>\n",
       "    <tr>\n",
       "      <th>1</th>\n",
       "      <td>GP</td>\n",
       "      <td>F</td>\n",
       "      <td>17</td>\n",
       "      <td>U</td>\n",
       "      <td>GT3</td>\n",
       "      <td>T</td>\n",
       "      <td>1</td>\n",
       "      <td>1</td>\n",
       "      <td>at_home</td>\n",
       "      <td>other</td>\n",
       "      <td>...</td>\n",
       "      <td>yes</td>\n",
       "      <td>no</td>\n",
       "      <td>5</td>\n",
       "      <td>3</td>\n",
       "      <td>3</td>\n",
       "      <td>1</td>\n",
       "      <td>1</td>\n",
       "      <td>3</td>\n",
       "      <td>4</td>\n",
       "      <td>no</td>\n",
       "    </tr>\n",
       "    <tr>\n",
       "      <th>2</th>\n",
       "      <td>GP</td>\n",
       "      <td>F</td>\n",
       "      <td>15</td>\n",
       "      <td>U</td>\n",
       "      <td>LE3</td>\n",
       "      <td>T</td>\n",
       "      <td>1</td>\n",
       "      <td>1</td>\n",
       "      <td>at_home</td>\n",
       "      <td>other</td>\n",
       "      <td>...</td>\n",
       "      <td>yes</td>\n",
       "      <td>no</td>\n",
       "      <td>4</td>\n",
       "      <td>3</td>\n",
       "      <td>2</td>\n",
       "      <td>2</td>\n",
       "      <td>3</td>\n",
       "      <td>3</td>\n",
       "      <td>10</td>\n",
       "      <td>yes</td>\n",
       "    </tr>\n",
       "  </tbody>\n",
       "</table>\n",
       "<p>3 rows × 31 columns</p>\n",
       "</div>"
      ],
      "text/plain": [
       "  school sex  age address famsize Pstatus  Medu  Fedu     Mjob     Fjob  \\\n",
       "0     GP   F   18       U     GT3       A     4     4  at_home  teacher   \n",
       "1     GP   F   17       U     GT3       T     1     1  at_home    other   \n",
       "2     GP   F   15       U     LE3       T     1     1  at_home    other   \n",
       "\n",
       "   ...   internet romantic  famrel  freetime  goout Dalc Walc health absences  \\\n",
       "0  ...         no       no       4         3      4    1    1      3        6   \n",
       "1  ...        yes       no       5         3      3    1    1      3        4   \n",
       "2  ...        yes       no       4         3      2    2    3      3       10   \n",
       "\n",
       "  passed  \n",
       "0     no  \n",
       "1     no  \n",
       "2    yes  \n",
       "\n",
       "[3 rows x 31 columns]"
      ]
     },
     "metadata": {},
     "output_type": "display_data"
    }
   ],
   "source": [
    "# Printing first three indices\n",
    "display(student_data.head(3))"
   ]
  },
  {
   "cell_type": "code",
   "execution_count": 6,
   "metadata": {
    "collapsed": false
   },
   "outputs": [
    {
     "data": {
      "text/plain": [
       "Index([u'school', u'sex', u'age', u'address', u'famsize', u'Pstatus', u'Medu',\n",
       "       u'Fedu', u'Mjob', u'Fjob', u'reason', u'guardian', u'traveltime',\n",
       "       u'studytime', u'failures', u'schoolsup', u'famsup', u'paid',\n",
       "       u'activities', u'nursery', u'higher', u'internet', u'romantic',\n",
       "       u'famrel', u'freetime', u'goout', u'Dalc', u'Walc', u'health',\n",
       "       u'absences', u'passed'],\n",
       "      dtype='object')"
      ]
     },
     "metadata": {},
     "output_type": "display_data"
    }
   ],
   "source": [
    "# Printing the keys for @student_data\n",
    "display(student_data.keys())"
   ]
  },
  {
   "cell_type": "code",
   "execution_count": 7,
   "metadata": {
    "collapsed": false
   },
   "outputs": [
    {
     "name": "stdout",
     "output_type": "stream",
     "text": [
      "        school_GP   school_MS       sex_F       sex_M         age   address_R  \\\n",
      "count  395.000000  395.000000  395.000000  395.000000  395.000000  395.000000   \n",
      "mean     0.883544    0.116456    0.526582    0.473418   16.696203    0.222785   \n",
      "std      0.321177    0.321177    0.499926    0.499926    1.276043    0.416643   \n",
      "min      0.000000    0.000000    0.000000    0.000000   15.000000    0.000000   \n",
      "25%      1.000000    0.000000    0.000000    0.000000   16.000000    0.000000   \n",
      "50%      1.000000    0.000000    1.000000    0.000000   17.000000    0.000000   \n",
      "75%      1.000000    0.000000    1.000000    1.000000   18.000000    0.000000   \n",
      "max      1.000000    1.000000    1.000000    1.000000   22.000000    1.000000   \n",
      "\n",
      "        address_U  famsize_GT3  famsize_LE3   Pstatus_A     ...      \\\n",
      "count  395.000000   395.000000   395.000000  395.000000     ...       \n",
      "mean     0.777215     0.711392     0.288608    0.103797     ...       \n",
      "std      0.416643     0.453690     0.453690    0.305384     ...       \n",
      "min      0.000000     0.000000     0.000000    0.000000     ...       \n",
      "25%      1.000000     0.000000     0.000000    0.000000     ...       \n",
      "50%      1.000000     1.000000     0.000000    0.000000     ...       \n",
      "75%      1.000000     1.000000     1.000000    0.000000     ...       \n",
      "max      1.000000     1.000000     1.000000    1.000000     ...       \n",
      "\n",
      "           higher    internet    romantic      famrel    freetime       goout  \\\n",
      "count  395.000000  395.000000  395.000000  395.000000  395.000000  395.000000   \n",
      "mean     0.949367    0.832911    0.334177    3.944304    3.235443    3.108861   \n",
      "std      0.219525    0.373528    0.472300    0.896659    0.998862    1.113278   \n",
      "min      0.000000    0.000000    0.000000    1.000000    1.000000    1.000000   \n",
      "25%      1.000000    1.000000    0.000000    4.000000    3.000000    2.000000   \n",
      "50%      1.000000    1.000000    0.000000    4.000000    3.000000    3.000000   \n",
      "75%      1.000000    1.000000    1.000000    5.000000    4.000000    4.000000   \n",
      "max      1.000000    1.000000    1.000000    5.000000    5.000000    5.000000   \n",
      "\n",
      "             Dalc        Walc      health    absences  \n",
      "count  395.000000  395.000000  395.000000  395.000000  \n",
      "mean     1.481013    2.291139    3.554430    5.708861  \n",
      "std      0.890741    1.287897    1.390303    8.003096  \n",
      "min      1.000000    1.000000    1.000000    0.000000  \n",
      "25%      1.000000    1.000000    3.000000    0.000000  \n",
      "50%      1.000000    2.000000    4.000000    4.000000  \n",
      "75%      2.000000    3.000000    5.000000    8.000000  \n",
      "max      5.000000    5.000000    5.000000   75.000000  \n",
      "\n",
      "[8 rows x 48 columns]\n"
     ]
    }
   ],
   "source": [
    "# Printing descriptions for the features set\n",
    "# Using @features_num so we can get statistics for both quantitative and qualitative data\n",
    "print(features_num.describe())"
   ]
  },
  {
   "cell_type": "markdown",
   "metadata": {},
   "source": [
    "### Features Ranked by SVM Weight in Relation to Target Variable @Passed\n",
    "![Ranked Features](features_rank.png)"
   ]
  },
  {
   "cell_type": "markdown",
   "metadata": {},
   "source": [
    "### With this output we can speculate a few things: \n",
    "- We are working with a pandas dataframe\n",
    "- The dataframe is indexed 0 to 394\n",
    "- There are **395 data entries** (rows) and **31 features** (columns)\n",
    "    - Therefor, our dataframe is 395 rows x 31 columns\n",
    "- Datatypes: there are 13 features of type int and 18 features which act as objects\n",
    "- Student Ages\n",
    "    - The oldest test subject is 22 and the youngest is 15\n",
    "    - The average subject from the test was 17\n",
    "- Absences\n",
    "    - The maximum absences among the test subjects was 75 and the minimum was 0\n",
    "    - The average from the test was 4"
   ]
  },
  {
   "cell_type": "markdown",
   "metadata": {},
   "source": [
    "## Implementing the Data\n",
    "The following section goes further in exploring the data by calculating a graduation rate for students among our data.\n",
    "The new variables calculated are:\n",
    "- The total number of students, `n_students`.\n",
    "- The total number of features for each student, `n_features`.\n",
    "- The number of those students who passed, `n_passed`.\n",
    "- The number of those students who failed, `n_failed`.\n",
    "- The graduation rate of the class, `grad_rate`, in percent (%)."
   ]
  },
  {
   "cell_type": "code",
   "execution_count": 8,
   "metadata": {
    "collapsed": false
   },
   "outputs": [
    {
     "name": "stdout",
     "output_type": "stream",
     "text": [
      "Total number of students: 395\n",
      "Number of features: 30\n",
      "Number of students who passed: 265\n",
      "Number of students who failed: 130\n",
      "Graduation rate of the class: 67.09%\n"
     ]
    }
   ],
   "source": [
    "# Calculate number of students\n",
    "n_students = student_data.shape[0]\n",
    "\n",
    "# Calculate number of features\n",
    "n_features = student_data.shape[1] - 1\n",
    "\n",
    "# Calculate passing students\n",
    "n_passed =len(student_data[student_data.passed == \"yes\"])\n",
    "\n",
    "# Calculate failing students\n",
    "n_failed = len(student_data[student_data.passed == \"no\"])\n",
    "\n",
    "# Calculate graduation rate\n",
    "grad_rate = float (n_passed) / n_students *100\n",
    "\n",
    "# Print the results\n",
    "print \"Total number of students: {}\".format(n_students)\n",
    "print \"Number of features: {}\".format(n_features)\n",
    "print \"Number of students who passed: {}\".format(n_passed)\n",
    "print \"Number of students who failed: {}\".format(n_failed)\n",
    "print \"Graduation rate of the class: {:.2f}%\".format(grad_rate)"
   ]
  },
  {
   "cell_type": "markdown",
   "metadata": {},
   "source": [
    "# Preparing the Data\n",
    "This section involves preparing the data for modeling, training, and testing. \n",
    "\n",
    "## Identify feature and target columns\n",
    "It is often the case that the data you obtain contains non-numeric features. This can be a problem, as most machine learning algorithms expect numeric data to perform computations with.\n",
    "\n",
    "*Seperating @student_data into feature and target columns:*"
   ]
  },
  {
   "cell_type": "code",
   "execution_count": 9,
   "metadata": {
    "collapsed": false
   },
   "outputs": [
    {
     "name": "stdout",
     "output_type": "stream",
     "text": [
      "Feature columns:\n",
      "['school', 'sex', 'age', 'address', 'famsize', 'Pstatus', 'Medu', 'Fedu', 'Mjob', 'Fjob', 'reason', 'guardian', 'traveltime', 'studytime', 'failures', 'schoolsup', 'famsup', 'paid', 'activities', 'nursery', 'higher', 'internet', 'romantic', 'famrel', 'freetime', 'goout', 'Dalc', 'Walc', 'health', 'absences']\n",
      "\n",
      "Target column: passed\n",
      "\n",
      "Feature values:\n"
     ]
    },
    {
     "data": {
      "text/html": [
       "<div>\n",
       "<table border=\"1\" class=\"dataframe\">\n",
       "  <thead>\n",
       "    <tr style=\"text-align: right;\">\n",
       "      <th></th>\n",
       "      <th>school</th>\n",
       "      <th>sex</th>\n",
       "      <th>age</th>\n",
       "      <th>address</th>\n",
       "      <th>famsize</th>\n",
       "      <th>Pstatus</th>\n",
       "      <th>Medu</th>\n",
       "      <th>Fedu</th>\n",
       "      <th>Mjob</th>\n",
       "      <th>Fjob</th>\n",
       "      <th>...</th>\n",
       "      <th>higher</th>\n",
       "      <th>internet</th>\n",
       "      <th>romantic</th>\n",
       "      <th>famrel</th>\n",
       "      <th>freetime</th>\n",
       "      <th>goout</th>\n",
       "      <th>Dalc</th>\n",
       "      <th>Walc</th>\n",
       "      <th>health</th>\n",
       "      <th>absences</th>\n",
       "    </tr>\n",
       "  </thead>\n",
       "  <tbody>\n",
       "    <tr>\n",
       "      <th>0</th>\n",
       "      <td>GP</td>\n",
       "      <td>F</td>\n",
       "      <td>18</td>\n",
       "      <td>U</td>\n",
       "      <td>GT3</td>\n",
       "      <td>A</td>\n",
       "      <td>4</td>\n",
       "      <td>4</td>\n",
       "      <td>at_home</td>\n",
       "      <td>teacher</td>\n",
       "      <td>...</td>\n",
       "      <td>yes</td>\n",
       "      <td>no</td>\n",
       "      <td>no</td>\n",
       "      <td>4</td>\n",
       "      <td>3</td>\n",
       "      <td>4</td>\n",
       "      <td>1</td>\n",
       "      <td>1</td>\n",
       "      <td>3</td>\n",
       "      <td>6</td>\n",
       "    </tr>\n",
       "    <tr>\n",
       "      <th>1</th>\n",
       "      <td>GP</td>\n",
       "      <td>F</td>\n",
       "      <td>17</td>\n",
       "      <td>U</td>\n",
       "      <td>GT3</td>\n",
       "      <td>T</td>\n",
       "      <td>1</td>\n",
       "      <td>1</td>\n",
       "      <td>at_home</td>\n",
       "      <td>other</td>\n",
       "      <td>...</td>\n",
       "      <td>yes</td>\n",
       "      <td>yes</td>\n",
       "      <td>no</td>\n",
       "      <td>5</td>\n",
       "      <td>3</td>\n",
       "      <td>3</td>\n",
       "      <td>1</td>\n",
       "      <td>1</td>\n",
       "      <td>3</td>\n",
       "      <td>4</td>\n",
       "    </tr>\n",
       "    <tr>\n",
       "      <th>2</th>\n",
       "      <td>GP</td>\n",
       "      <td>F</td>\n",
       "      <td>15</td>\n",
       "      <td>U</td>\n",
       "      <td>LE3</td>\n",
       "      <td>T</td>\n",
       "      <td>1</td>\n",
       "      <td>1</td>\n",
       "      <td>at_home</td>\n",
       "      <td>other</td>\n",
       "      <td>...</td>\n",
       "      <td>yes</td>\n",
       "      <td>yes</td>\n",
       "      <td>no</td>\n",
       "      <td>4</td>\n",
       "      <td>3</td>\n",
       "      <td>2</td>\n",
       "      <td>2</td>\n",
       "      <td>3</td>\n",
       "      <td>3</td>\n",
       "      <td>10</td>\n",
       "    </tr>\n",
       "    <tr>\n",
       "      <th>3</th>\n",
       "      <td>GP</td>\n",
       "      <td>F</td>\n",
       "      <td>15</td>\n",
       "      <td>U</td>\n",
       "      <td>GT3</td>\n",
       "      <td>T</td>\n",
       "      <td>4</td>\n",
       "      <td>2</td>\n",
       "      <td>health</td>\n",
       "      <td>services</td>\n",
       "      <td>...</td>\n",
       "      <td>yes</td>\n",
       "      <td>yes</td>\n",
       "      <td>yes</td>\n",
       "      <td>3</td>\n",
       "      <td>2</td>\n",
       "      <td>2</td>\n",
       "      <td>1</td>\n",
       "      <td>1</td>\n",
       "      <td>5</td>\n",
       "      <td>2</td>\n",
       "    </tr>\n",
       "    <tr>\n",
       "      <th>4</th>\n",
       "      <td>GP</td>\n",
       "      <td>F</td>\n",
       "      <td>16</td>\n",
       "      <td>U</td>\n",
       "      <td>GT3</td>\n",
       "      <td>T</td>\n",
       "      <td>3</td>\n",
       "      <td>3</td>\n",
       "      <td>other</td>\n",
       "      <td>other</td>\n",
       "      <td>...</td>\n",
       "      <td>yes</td>\n",
       "      <td>no</td>\n",
       "      <td>no</td>\n",
       "      <td>4</td>\n",
       "      <td>3</td>\n",
       "      <td>2</td>\n",
       "      <td>1</td>\n",
       "      <td>2</td>\n",
       "      <td>5</td>\n",
       "      <td>4</td>\n",
       "    </tr>\n",
       "  </tbody>\n",
       "</table>\n",
       "<p>5 rows × 30 columns</p>\n",
       "</div>"
      ],
      "text/plain": [
       "  school sex  age address famsize Pstatus  Medu  Fedu     Mjob      Fjob  \\\n",
       "0     GP   F   18       U     GT3       A     4     4  at_home   teacher   \n",
       "1     GP   F   17       U     GT3       T     1     1  at_home     other   \n",
       "2     GP   F   15       U     LE3       T     1     1  at_home     other   \n",
       "3     GP   F   15       U     GT3       T     4     2   health  services   \n",
       "4     GP   F   16       U     GT3       T     3     3    other     other   \n",
       "\n",
       "    ...    higher internet  romantic  famrel  freetime goout Dalc Walc health  \\\n",
       "0   ...       yes       no        no       4         3     4    1    1      3   \n",
       "1   ...       yes      yes        no       5         3     3    1    1      3   \n",
       "2   ...       yes      yes        no       4         3     2    2    3      3   \n",
       "3   ...       yes      yes       yes       3         2     2    1    1      5   \n",
       "4   ...       yes       no        no       4         3     2    1    2      5   \n",
       "\n",
       "  absences  \n",
       "0        6  \n",
       "1        4  \n",
       "2       10  \n",
       "3        2  \n",
       "4        4  \n",
       "\n",
       "[5 rows x 30 columns]"
      ]
     },
     "metadata": {},
     "output_type": "display_data"
    }
   ],
   "source": [
    "# Extract feature columns\n",
    "feature_cols = list(student_data.columns[:-1])\n",
    "\n",
    "# Extract target column 'passed'\n",
    "target_col = student_data.columns[-1]\n",
    "\n",
    "# Show the list of columns\n",
    "print \"Feature columns:\\n{}\".format(feature_cols)\n",
    "print \"\\nTarget column: {}\".format(target_col)\n",
    "\n",
    "# Separate the data into feature data and target data (X_all and y_all, respectively)\n",
    "X_all = student_data[feature_cols]\n",
    "y_all = student_data[target_col]\n",
    "\n",
    "# Show the feature information by printing the first five rows\n",
    "print \"\\nFeature values:\"\n",
    "display(X_all.head())"
   ]
  },
  {
   "cell_type": "markdown",
   "metadata": {},
   "source": [
    "## Preprocess Feature Columns\n",
    "As you can see, there are several non-numeric columns that need to be converted! Many of them are simply `yes`/`no`, e.g. `internet`. These can be reasonably converted into `1`/`0` (binary) values.\n",
    "\n",
    "Other columns, like `Mjob` and `Fjob`, have more than two values, and are known as _categorical variables_. The recommended way to handle such a column is to create as many columns as possible values (e.g. `Fjob_teacher`, `Fjob_other`, `Fjob_services`, etc.), and assign a `1` to one of them and `0` to all others.\n",
    "\n",
    "These generated columns are sometimes called _dummy variables_, and we will use the [`pandas.get_dummies()`](http://pandas.pydata.org/pandas-docs/stable/generated/pandas.get_dummies.html?highlight=get_dummies#pandas.get_dummies) function to perform this transformation. \n",
    "\n",
    "The code cell below will perform the preprocessing routine discussed. "
   ]
  },
  {
   "cell_type": "code",
   "execution_count": 10,
   "metadata": {
    "collapsed": false
   },
   "outputs": [
    {
     "data": {
      "text/plain": [
       "\"Processed feature columns (48 total features):\\n['school_GP', 'school_MS', 'sex_F', 'sex_M', 'age', 'address_R', 'address_U', 'famsize_GT3', 'famsize_LE3', 'Pstatus_A', 'Pstatus_T', 'Medu', 'Fedu', 'Mjob_at_home', 'Mjob_health', 'Mjob_other', 'Mjob_services', 'Mjob_teacher', 'Fjob_at_home', 'Fjob_health', 'Fjob_other', 'Fjob_services', 'Fjob_teacher', 'reason_course', 'reason_home', 'reason_other', 'reason_reputation', 'guardian_father', 'guardian_mother', 'guardian_other', 'traveltime', 'studytime', 'failures', 'schoolsup', 'famsup', 'paid', 'activities', 'nursery', 'higher', 'internet', 'romantic', 'famrel', 'freetime', 'goout', 'Dalc', 'Walc', 'health', 'absences']\""
      ]
     },
     "metadata": {},
     "output_type": "display_data"
    }
   ],
   "source": [
    "# @preprocess_features(X) is imported from student_functions.py\n",
    "\n",
    "X_all = preprocess_features(X_all)\n",
    "display(\"Processed feature columns ({} total features):\\n{}\".format(len(X_all.columns), list(X_all.columns)))\n",
    "\n",
    "# Check that features are preprocessed (if you want!)\n",
    "# print X_all.head(3)"
   ]
  },
  {
   "cell_type": "code",
   "execution_count": 11,
   "metadata": {
    "collapsed": false
   },
   "outputs": [
    {
     "data": {
      "text/plain": [
       "<matplotlib.axes._subplots.AxesSubplot at 0x117e95b50>"
      ]
     },
     "execution_count": 11,
     "metadata": {},
     "output_type": "execute_result"
    },
    {
     "data": {
      "image/png": "[encoded data removed]",
      "text/plain": [
       "<matplotlib.figure.Figure at 0x117e8ac90>"
      ]
     },
     "metadata": {},
     "output_type": "display_data"
    }
   ],
   "source": [
    "fig = features.cumsum()\n",
    "fig.plot()"
   ]
  },
  {
   "cell_type": "markdown",
   "metadata": {},
   "source": [
    "# Implementation: Training and Testing Data Split\n",
    "So far, we have converted all _categorical_ features into numeric values. For the next step, we split the data (both features and corresponding labels) into training and test sets. In the following code cell below, you will need to implement the following:\n",
    "- Randomly shuffle and split the data (`X_all`, `y_all`) into training and testing subsets.\n",
    "  - Use 300 training points (approximately 75%) and 95 testing points (approximately 25%).\n",
    "  - Set a `random_state` for the function(s) you use, if provided.\n",
    "  - Store the results in `X_train`, `X_test`, `y_train`, and `y_test`."
   ]
  },
  {
   "cell_type": "code",
   "execution_count": 126,
   "metadata": {
    "collapsed": false
   },
   "outputs": [
    {
     "name": "stdout",
     "output_type": "stream",
     "text": [
      "Features....\n",
      "Training set has 300 samples with shape (300, 48)\n",
      "Testing set has 95 samples with shape (95, 48)\n",
      "\n",
      "Labels...\n",
      "Training set has a shape of (300,)\n"
     ]
    }
   ],
   "source": [
    "# Set the number of training points\n",
    "# I decided to be more specific with my training points, calculating 75% of testing points and\n",
    "# cast it to int so that the result is a whole number\n",
    "num_train = 300\n",
    "\n",
    "# Set the number of testing points\n",
    "num_test = X_all.shape[0] - num_train\n",
    "\n",
    "# Shuffle and split the dataset into the number of training and testing points above\n",
    "X_train, X_test, y_train, y_test = cross_validation.train_test_split(X_all, y_all, \n",
    "                                                                     test_size=num_test, \n",
    "                                                                     train_size=num_train, \n",
    "                                                                     random_state=0)\n",
    "\n",
    "# find a feature normalization: \n",
    "X_norm = np.mean(X_train, axis = 0)\n",
    "\n",
    "# Show the results of the split\n",
    "print \"Features....\"\n",
    "print \"Training set has {} samples with shape {}\".format(X_train.shape[0], X_train.shape)\n",
    "print \"Testing set has {} samples with shape {}\\n\".format(X_test.shape[0], X_test.shape)\n",
    "print \"Labels...\"\n",
    "print \"Training set has a shape of {}\".format(y_train.shape)"
   ]
  },
  {
   "cell_type": "markdown",
   "metadata": {},
   "source": [
    "# IV. Training and Evaluating Models\n",
    "This section identifies 3 supervised learning models that are appropriate for the problem and available in `scikit-learn`. \n",
    "\n",
    "Outline: \n",
    "1. Brief reasoning behind choosing my three models by considering what you know about the data and each model's strengths and weaknesses. \n",
    "2. Fit the models to varying sizes of training data (100 data points, 200 data points, and 300 data points) and measure the F<sub>1</sub> score. \n",
    "3. Conclusive table showing the training set size, training time, prediction time, F<sub>1</sub> score on the training set, and F<sub>1</sub> score on the testing set."
   ]
  },
  {
   "cell_type": "markdown",
   "metadata": {},
   "source": [
    "## Model Application: My Chosen Supervised Learning Models\n",
    "\n",
    "* *__Question 2__: List three supervised learning models that are appropriate for this problem. What are the general applications of each model? What are their strengths and weaknesses? Given what you know about the data, why did you choose these models to be applied?*"
   ]
  },
  {
   "cell_type": "markdown",
   "metadata": {},
   "source": [
    "### *Model A: Support Vector Machines*\n",
    "[Support vector machines](http://scikit-learn.org/stable/modules/svm.html \"Support Vector Machines\") are a supervised learning method belonging to the discriminant model family. Support Vector Machines (SVMs) can be used in the case of both classification and regression.\n",
    "\n",
    "An SVM algorithm is used to calculate an optimal hyperplane by classifying training data into categorical functions. The algorithm then learns to assign new examples to a corresponding category of relating features. In this case we want to classify students into two classes: those who passed and those who did not.\n",
    "\n",
    "One can tune an SVM using parameters (including the all-mighty Kernel trick). A kernel can be applied to many function types including those which are non-linear and linear. A non-linear SVM can prove handy by generating a complex relationship among the data while reducing the upfront preprocessing in the data. As a downside, this process can take longer since it can be computationally exhaustive.\n",
    "\n",
    "\n",
    "The **strengths** of using SVMs are:\n",
    "- Highly effective with large datasets\n",
    "- Memory efficient\n",
    "- Theoretical guarentees of performance\n",
    "- Not affected by local minima\n",
    "- Does not suffer from the *curse of dimensionality*\n",
    "- Application versatality and ability to apply custom Kernel functions or the *Kernel trick* for domain knowledge\n",
    "\n",
    "The **weaknesses** to using SVMs are: \n",
    "- Performs best when the number of samples is greater tan the number of features \n",
    "- Requires a developed kernel function\n",
    "- Does not provide probability estimates directly\n",
    "\n",
    "SVMs are often applied to solve problems of uncertainty and often applied in biological and other science. \n",
    "\n",
    "A Support Vector Machine is a reasonable choice for this data because `n < m`, that is the number of samples exceeds the number of features. We can also make justification for the SVC because of its ability to handle non-linear models without much end-user tuning. We can throw fairly complex data at it and in return get a rather strong model simple due its ability to transform the data and generate non-linear models. "
   ]
  },
  {
   "cell_type": "markdown",
   "metadata": {},
   "source": [
    "### *Model B: Nearest Neighbor*\n",
    "The [nearest neighbor](http://scikit-learn.org/stable/modules/neighbors.html \"Nearest Neighbors\") algorithm offers a simple learning method for classification data using instance based learning. (Though it also can be used for unsupervised learning). KNN is described as a \"lazy learner\" as apposed to an \"eager learner\" because new data is compared to the training data to make a judgement as to if the instance fits; the data iteself is a function. \n",
    "\n",
    "#### Relation to the Student Data\n",
    "In the case of our classification, the output is class membership: passed-yes/ passed-no. The model looks at the \"k\" nearest points to determine (by majority vote) if the student belongs with the passed-yes or passed-no class. \n",
    "\n",
    "The **strengths** of using the nearest neighbor algorithm are:\n",
    "- The simplicity of the model can be quick due to local approximation\n",
    "- The cost of the learning process is minimal\n",
    "- Accuracy increases and weights can be used to 'smooth' classifier\n",
    "\n",
    "The **weakness** of using k-nearest neighbor are:\n",
    "- Expense: The algorithm can be expensive when implementing on large datasets\n",
    "- Results can be subject to bias and underfitting\n",
    "- The curse of dimensionality is highly exibited in the model\n",
    "\n",
    "KNN is most frequently used for classification problems including pattern recognition, DNA sequencing, and fraud detection. \n",
    "\n",
    "KNN is a reasonable choice for this data because we could organize the features and assign weights to feature importance. Because it measures distance, it can also be valuable to fit a non-linear classification. Since our dataset is intermediate, KNN is a good choice.  "
   ]
  },
  {
   "cell_type": "markdown",
   "metadata": {},
   "source": [
    "### *Model C: Decision Tree*\n",
    "A [decision tree](http://scikit-learn.org/stable/modules/tree.html \"Decision Trees\") model offers an intuitive method to split the data. DTs are often used as a reference before fitting a more complex model due to their speed. Because of their computational efficiency, it often lacks in being a strong performer otherwise and is prone to overfitting. \n",
    "\n",
    "The **benefits** of using a decision tree are: \n",
    "- Little computation required to perform classification on model\n",
    "- Able to handle categorical and continuous variables\n",
    "- Identify important features\n",
    "\n",
    "The **weaknesses** of using a decision tree are: \n",
    "- Sensistivity to overfitting and underfitting data\n",
    "- Bins may introduce bias\n",
    "- May lack human reasoning or intuitive splitting\n",
    "- Can be expensive for large datasets or for many features \n",
    "    - `cost = O(n^n)`\n",
    "\n",
    "DTs are used in many environments. These learning algorithms can be used for portfolio theory in finance, game theory in statistics, DNA sequencing in molecular biology, and also in software development. \n",
    "    \n",
    "A DT can be a reasonable choice for this data because it is computationaly efficient. The model is less complex and can be more simple to understand and interpret. "
   ]
  },
  {
   "cell_type": "markdown",
   "metadata": {},
   "source": [
    "## Setup\n",
    "Run the code cell below to initialize three helper functions which you can use for training and testing the three supervised learning models you've chosen above. The functions are as follows:\n",
    "- `train_classifier` - takes as input a classifier and training data and fits the classifier to the data.\n",
    "- `predict_labels` - takes as input a fit classifier, features, and a target labeling and makes predictions using the F<sub>1</sub> score.\n",
    "- `train_predict` - takes as input a classifier, and the training and testing data, and performs `train_clasifier` and `predict_labels`.\n",
    " - This function will report the F<sub>1</sub> score for both the training and testing data separately."
   ]
  },
  {
   "cell_type": "code",
   "execution_count": 127,
   "metadata": {
    "collapsed": true
   },
   "outputs": [],
   "source": [
    "# Functions for training and testing\n",
    "# As per udacity guidelines :)\n",
    "\n",
    "def train_classifier(clf, X_train, y_train):\n",
    "    ''' Fits a classifier to the training data. '''\n",
    "    \n",
    "    # Start the clock, train the classifier, then stop the clock\n",
    "    start = time()\n",
    "    clf.fit(X_train, y_train)\n",
    "    end = time()\n",
    "    train_time = end - start\n",
    "    \n",
    "    # Print the results\n",
    "    print \"Trained model in \\t\\t\\t{:.4f}\".format(train_time)\n",
    "    \n",
    "def predict_labels(clf, features, target):\n",
    "    ''' Makes predictions using a fit classifier based on F1 score. '''\n",
    "    \n",
    "    # Start the clock, make predictions, then stop the clock\n",
    "    start = time()\n",
    "    y_pred = clf.predict(features)\n",
    "    end = time()\n",
    "    \n",
    "    # Print and return results\n",
    "    print \"Made predictions in \\t\\t\\t{:.4f}\".format(end - start)\n",
    "    return f1_score(target.values, y_pred, pos_label='yes')\n",
    "\n",
    "def train_predict(clf, X_train, y_train, X_test, y_test):\n",
    "    ''' Train and predict using a classifer based on F1 score. '''\n",
    "    \n",
    "    # Indicate the classifier and the training set size\n",
    "    print \"Training a {} using a training set size of {}. . .\".format(clf.__class__.__name__, len(X_train))\n",
    "    \n",
    "    # Train the classifier\n",
    "    train_classifier(clf, X_train, y_train)\n",
    "    \n",
    "    # Print the results of prediction for both training and testing\n",
    "    print \"F1 score for training set: \\t\\t{:.4f}\".format(predict_labels(clf, X_train, y_train))\n",
    "    print \"F1 score for test set: \\t\\t\\t{:.4f}\".format(predict_labels(clf, X_test, y_test))"
   ]
  },
  {
   "cell_type": "code",
   "execution_count": 128,
   "metadata": {
    "collapsed": true
   },
   "outputs": [],
   "source": [
    "# ~~~~~~~~~~~~~~~~~~~~~~~~~~~~~~~~~~~~~~~~~~~~~~~~~~~~~~~~~~~~~~~~~~~~~~~~~~~\n",
    "# Functions for training and testing\n",
    "# Functions perform same operations as the above functions but also identify variables for inbetween steps\n",
    "# @ train_classifier_noP: stands for train classifier no print\n",
    "\n",
    "\n",
    "def train_classifier_noP(clf, X_train, y_train):\n",
    "    ''' Fits a classifier to the training data. '''\n",
    "    \n",
    "    # Start the clock, train the classifier, then stop the clock, return the time it takes\n",
    "    start = time()\n",
    "    clf.fit(X_train, y_train)\n",
    "    end = time()\n",
    "    \n",
    "    # Store and return results\n",
    "    train_time = end - start # variable @train_time\n",
    "    return train_time # return variable @train_time: the time it takes to fit/ train the model\n",
    "\n",
    "def predict_labels_noP(clf, features, target):\n",
    "    ''' Makes predictions using a fit classifier based on F1 score. '''\n",
    "    # Start the clock, make predictions, then stop the clock, return the time it takes with f1 scores\n",
    "    start = time()\n",
    "    y_pred = clf.predict(features)\n",
    "    end = time()\n",
    "    \n",
    "    # Store calculated variables\n",
    "    # variable @predict_time\n",
    "    predict_time = end - start \n",
    "    # variable @predict_f1_score\n",
    "    predict_f1_score = f1_score(target.values, y_pred, pos_label='yes')\n",
    "    \n",
    "    # return variables @predict_time and @predict_f1_score\n",
    "    return predict_time, predict_f1_score\n",
    "\n",
    "\n",
    "def train_predict_noP(clf, X_train, y_train, X_test, y_test):\n",
    "    ''' Train and predict using a classifer based on F1 score. '''\n",
    "    \n",
    "    # Training time\n",
    "    tc = train_classifier_noP(clf, X_train, y_train)\n",
    "    \n",
    "    # Training set\n",
    "    pl_1 = predict_labels_noP(clf, X_train, y_train)\n",
    "    \n",
    "    # Test set\n",
    "    pl_2 = predict_labels_noP(clf, X_test, y_test)\n",
    "    \n",
    "    return tc, pl_1[0], pl_1[1], pl_2[0], pl_2[1]\n",
    "\n",
    "\n",
    "def train_predict_print(clf, X_train, y_train, X_test, y_test):\n",
    "    ''' Train and predict using a classifer based on F1 score, \n",
    "    format and print the results. '''\n",
    "    \n",
    "    # Indicate the classifier and the training set size\n",
    "    print \"Training a {} using a training set size of {}. . .\".format(clf.__class__.__name__, len(X_train))\n",
    "    \n",
    "    tc = train_classifier_noP(clf, X_train, y_train)\n",
    "    print \"Trained model in \\t\\t\\t\\t\\t{:.4f}\".format(tc)\n",
    "    \n",
    "    # Training set\n",
    "    pl_1 = predict_labels_noP(clf, X_train, y_train)\n",
    "    print \"Made predictions on training set in: \\t\\t\\t{:.4f}\".format(pl_1[0])\n",
    "    print \"F1 score for training set: \\t\\t\\t\\t{:.4f}\".format(pl_1[1])\n",
    "    \n",
    "    # Test set\n",
    "    pl_2 = predict_labels_noP(clf, X_test, y_test)\n",
    "    print \"Made predictions on test set in: \\t\\t\\t{:.4f}\".format(pl_2[0])\n",
    "    print \"F1 score for test set: \\t\\t\\t\\t\\t{:.4f}\".format(pl_2[1])"
   ]
  },
  {
   "cell_type": "markdown",
   "metadata": {},
   "source": [
    "### Implementation: Model Performance Metrics\n",
    "With the predefined functions above, you will now import the three supervised learning models of your choice and run the `train_predict` function for each one. Remember that you will need to train and predict on each classifier for three different training set sizes: 100, 200, and 300. Hence, you should expect to have 9 different outputs below — 3 for each model using the varying training set sizes. In the following code cell, you will need to implement the following:\n",
    "- Import the three supervised learning models you've discussed in the previous section.\n",
    "- Initialize the three models and store them in `clf_A`, `clf_B`, and `clf_C`.\n",
    " - Use a `random_state` for each model you use, if provided.\n",
    " - **Note:** Use the default settings for each model — you will tune one specific model in a later section.\n",
    "- Create the different training set sizes to be used to train each model.\n",
    " - *Do not reshuffle and resplit the data! The new training points should be drawn from `X_train` and `y_train`.*\n",
    "- Fit each model with each training set size and make predictions on the test set (9 in total).  \n",
    "**Note:** Three tables are provided after the following code cell which can be used to store your results."
   ]
  },
  {
   "cell_type": "code",
   "execution_count": 129,
   "metadata": {
    "collapsed": true
   },
   "outputs": [],
   "source": [
    "# Already imported ----\n",
    "# from sklearn.svm import SVC\n",
    "# from sklearn import neighbors\n",
    "# from sklearn import tree\n",
    "# from sklearn.metrics import accuracy_score\n",
    "# ----\n",
    "\n",
    "# Classifier A: Support Vector Machine Algorithm\n",
    "a = \"Support Vector Machine\"\n",
    "# Classifier B: Nearest Neighbor Algorithm\n",
    "b = \"Nearest Neighbor Algorithm\"\n",
    "# Classifier C: Decision Tree Algorithm\n",
    "c = \"Decision Tree Algorithm\"\n",
    "# Classifier D: Logistic Regression\n",
    "d = \"Logistic Regression\"\n",
    "\n",
    "\n",
    "# Initialize the three models\n",
    "clf_A = SVC(kernel='linear', random_state=0)\n",
    "clf_B = neighbors.KNeighborsClassifier()\n",
    "clf_C = tree.DecisionTreeClassifier(random_state=0)\n",
    "clf_D = LogisticRegression(random_state=0)\n",
    "clf_E = GaussianNB()\n",
    "\n",
    "\n",
    "# Set up the training set sizes\n",
    "X_train_100 = X_train[:100]\n",
    "y_train_100 = y_train[:100]\n",
    "\n",
    "X_train_200 = X_train[:200]\n",
    "y_train_200 = y_train[:200]\n",
    "\n",
    "X_train_300 = X_train[:300]\n",
    "y_train_300 = y_train[:300]"
   ]
  },
  {
   "cell_type": "code",
   "execution_count": 130,
   "metadata": {
    "collapsed": true
   },
   "outputs": [],
   "source": [
    "# Execute the 'train_predict' function for each classifier and each training set size\n",
    "\n",
    "def train_pred_all(clf):\n",
    "    '''train and predict a model on ALL training sizes'''\n",
    "    my100 = train_predict_print(clf, X_train_100, y_train_100, X_test, y_test)\n",
    "    #print my100\n",
    "    print\n",
    "    my200 = train_predict_print(clf, X_train_200, y_train_200, X_test, y_test)\n",
    "    #print my200\n",
    "    print\n",
    "    my300 = train_predict_print(clf, X_train_300, y_train_300, X_test, y_test)\n",
    "    #print my300\n",
    "    print\n",
    "\n",
    "\n",
    "def clf_stats_all(clf, clf_info):\n",
    "    '''Get and print calculated statistics for a model'''\n",
    "    print \"Statistics for {} model. . .\".format(clf.__class__.__name__)\n",
    "    print \"Mean training time: {:,.4f}\".format(np.mean(clf_info[0]))\n",
    "    print \"Mean prediction time: {:,.4f}\".format(np.mean(clf_info[1]))\n",
    "    print \"Mean F1 score for training sets: {:,.4f}\".format(np.mean(clf_info[2]))\n",
    "    print \"Mean testing time: {:,.4f}\".format(np.mean(clf_info[3]))\n",
    "    print \"Mean F1 score for test sets: {:,.4f}\".format(np.mean(clf_info[4]))"
   ]
  },
  {
   "cell_type": "code",
   "execution_count": 131,
   "metadata": {
    "collapsed": false
   },
   "outputs": [],
   "source": [
    "def plot_mat(clf):\n",
    "    '''Computes confusion matrix for training and testing set accuracy'''\n",
    "    pred_train = clf.predict(X_train)\n",
    "    pred_test = clf.predict(X_test)\n",
    "    print \"\\nConfusion Matrix\"\n",
    "    print 'Baseline for train and test set: {}, {} \\n'.format(np.mean(y_train == 0), np.mean(y_test == 0))\n",
    "    plt.figure(figsize=(13,5))\n",
    "    ax = plt.subplot(1,2,1)\n",
    "    sns.heatmap(confusion_matrix(y_train, pred_train), annot = True, fmt = '')\n",
    "    plt.title('Training Set Accuracy: {}'.format(clf.score(X_train, y_train)))\n",
    "    ax = plt.subplot(1,2,2)\n",
    "    sns.heatmap(confusion_matrix(y_test, pred_test), annot = True, fmt = '')\n",
    "    plt.title('Testing Set Accuracy: {}'.format(clf.score(X_test, y_test)))"
   ]
  },
  {
   "cell_type": "markdown",
   "metadata": {},
   "source": [
    "### *Support Vector Machine:*\n",
    "Model performance for training sets of sizes 100, 200, and 300.\n",
    "\n",
    "Support Vector Machines (SVM's) can be used in the case of both classification and regression. In the case of classification, an SVM can be prove helpful when the data is linearly seperatable. An SVM algorithm can go further to seperate the data into vectors by means of a kernel where a decision surface is maximized to distinguish differences within features and classes. "
   ]
  },
  {
   "cell_type": "code",
   "execution_count": 181,
   "metadata": {
    "collapsed": false
   },
   "outputs": [
    {
     "name": "stdout",
     "output_type": "stream",
     "text": [
      "Training a SVC using a training set size of 100. . .\n",
      "Trained model in \t\t\t\t\t0.0074\n",
      "Made predictions on training set in: \t\t\t0.0008\n",
      "F1 score for training set: \t\t\t\t0.8806\n",
      "Made predictions on test set in: \t\t\t0.0010\n",
      "F1 score for test set: \t\t\t\t\t0.7463\n",
      "\n",
      "Training a SVC using a training set size of 200. . .\n",
      "Trained model in \t\t\t\t\t0.0229\n",
      "Made predictions on training set in: \t\t\t0.0020\n",
      "F1 score for training set: \t\t\t\t0.8622\n",
      "Made predictions on test set in: \t\t\t0.0010\n",
      "F1 score for test set: \t\t\t\t\t0.7647\n",
      "\n",
      "Training a SVC using a training set size of 300. . .\n",
      "Trained model in \t\t\t\t\t0.0550\n",
      "Made predictions on training set in: \t\t\t0.0052\n",
      "F1 score for training set: \t\t\t\t0.8421\n",
      "Made predictions on test set in: \t\t\t0.0018\n",
      "F1 score for test set: \t\t\t\t\t0.7826\n",
      "\n",
      "-----------------------------------------------\n",
      "Statistics for SVC model. . .\n",
      "Mean training time: 0.0278\n",
      "Mean prediction time: 0.0027\n",
      "Mean F1 score for training sets: 0.8616\n",
      "Mean testing time: 0.0013\n",
      "Mean F1 score for test sets: 0.7584\n",
      "-----------------------------------------------\n",
      "\n",
      "Confusion Matrix\n",
      "Baseline for train and test set: 0.0, 0.0 \n",
      "\n"
     ]
    },
    {
     "data": {
      "image/png": "[encoded data removed]",
      "text/plain": [
       "<matplotlib.figure.Figure at 0x11b4ba7d0>"
      ]
     },
     "metadata": {},
     "output_type": "display_data"
    }
   ],
   "source": [
    "# Run functions for @clf_A - Support Vector Machine\n",
    "# Train and predict @clf_A on training ALL predefined trainng set sizes\n",
    "train_pred_all(clf_A)\n",
    "\n",
    "\n",
    "\n",
    "clf_A_arr = [train_predict_noP(clf_A, X_train_100, y_train_100, X_test, y_test),\n",
    "             train_predict_noP(clf_A, X_train_200, y_train_200, X_test, y_test),\n",
    "             train_predict_noP(clf_A, X_train_300, y_train_300, X_test, y_test)]\n",
    "\n",
    "\n",
    "# Create array of models results\n",
    "clf_A_info = [[0.0072, 0.0220, 0.0543],\n",
    "              [0.0010, 0.0022, 0.0049],\n",
    "              [0.8806, 0.8622, 0.8421],\n",
    "              [0.0007, 0.0011, 0.0021],\n",
    "              [0.7463, 0.7463, 0.7826]]\n",
    "\n",
    "print \"-----------------------------------------------\"\n",
    "# Print mean results over thee three training sets\n",
    "clf_stats_all(clf_A, clf_A_info)\n",
    "print \"-----------------------------------------------\"\n",
    "\n",
    "# Print confusion matrix and plot\n",
    "plot_mat(clf_A)"
   ]
  },
  {
   "cell_type": "code",
   "execution_count": 302,
   "metadata": {
    "collapsed": false
   },
   "outputs": [
    {
     "data": {
      "text/plain": [
       "array([85, 97], dtype=int32)"
      ]
     },
     "execution_count": 302,
     "metadata": {},
     "output_type": "execute_result"
    }
   ],
   "source": [
    "# Number of support vectors\n",
    "clf_A.n_support_"
   ]
  },
  {
   "cell_type": "markdown",
   "metadata": {},
   "source": [
    "### *K Nearest Neighbor Classifier:*\n",
    "Model performance for training sets of sizes 100, 200, and 3005."
   ]
  },
  {
   "cell_type": "code",
   "execution_count": 198,
   "metadata": {
    "collapsed": false
   },
   "outputs": [
    {
     "name": "stdout",
     "output_type": "stream",
     "text": [
      "Training a KNeighborsClassifier using a training set size of 100. . .\n",
      "Trained model in \t\t\t\t\t0.0016\n",
      "Made predictions on training set in: \t\t\t0.0019\n",
      "F1 score for training set: \t\t\t\t0.7972\n",
      "Made predictions on test set in: \t\t\t0.0015\n",
      "F1 score for test set: \t\t\t\t\t0.7068\n",
      "\n",
      "Training a KNeighborsClassifier using a training set size of 200. . .\n",
      "Trained model in \t\t\t\t\t0.0008\n",
      "Made predictions on training set in: \t\t\t0.0039\n",
      "F1 score for training set: \t\t\t\t0.8571\n",
      "Made predictions on test set in: \t\t\t0.0025\n",
      "F1 score for test set: \t\t\t\t\t0.7121\n",
      "\n",
      "Training a KNeighborsClassifier using a training set size of 300. . .\n",
      "Trained model in \t\t\t\t\t0.0010\n",
      "Made predictions on training set in: \t\t\t0.0069\n",
      "F1 score for training set: \t\t\t\t0.8722\n",
      "Made predictions on test set in: \t\t\t0.0033\n",
      "F1 score for test set: \t\t\t\t\t0.7482\n",
      "\n",
      "-----------------------------------------------\n",
      "Statistics for KNeighborsClassifier model. . .\n",
      "Mean training time: 0.0012\n",
      "Mean prediction time: 0.0047\n",
      "Mean F1 score for training sets: 0.8422\n",
      "Mean testing time: 0.0021\n",
      "Mean F1 score for test sets: 0.7224\n",
      "-----------------------------------------------\n",
      "\n",
      "Confusion Matrix\n",
      "Baseline for train and test set: 0.0, 0.0 \n",
      "\n"
     ]
    },
    {
     "data": {
      "image/png": "[encoded data removed]",
      "text/plain": [
       "<matplotlib.figure.Figure at 0x11b73d150>"
      ]
     },
     "metadata": {},
     "output_type": "display_data"
    }
   ],
   "source": [
    "# Run functions for @clf_B - K Nearest Neighbor Classifier\n",
    "# Train and predict @clf_B on training ALL predefined trainng set sizes\n",
    "train_pred_all(clf_B)\n",
    "\n",
    "# Create array of models results\n",
    "clf_B_info = [[0.0016, 0.0011, 0.0010],\n",
    "              [0.0023, 0.0041, 0.0076],\n",
    "              [0.7972, 0.8571, 0.8722],\n",
    "              [0.0016, 0.0021, 0.0027],\n",
    "              [0.7068, 0.7121, 0.7482]]\n",
    "\n",
    "print \"-----------------------------------------------\"\n",
    "# Print mean results over thee three training sets\n",
    "clf_stats_all(clf_B, clf_B_info)\n",
    "print \"-----------------------------------------------\"\n",
    "\n",
    "# Print confusion matrix and plot\n",
    "plot_mat(clf_B)"
   ]
  },
  {
   "cell_type": "markdown",
   "metadata": {},
   "source": [
    "## *Decision Tree Classifier:*\n",
    "Model performance for training sets of sizes 100, 200, and 300."
   ]
  },
  {
   "cell_type": "code",
   "execution_count": 187,
   "metadata": {
    "collapsed": false
   },
   "outputs": [
    {
     "name": "stdout",
     "output_type": "stream",
     "text": [
      "Training a DecisionTreeClassifier using a training set size of 100. . .\n",
      "Trained model in \t\t\t\t\t0.0019\n",
      "Made predictions on training set in: \t\t\t0.0005\n",
      "F1 score for training set: \t\t\t\t1.0000\n",
      "Made predictions on test set in: \t\t\t0.0003\n",
      "F1 score for test set: \t\t\t\t\t0.6942\n",
      "\n",
      "Training a DecisionTreeClassifier using a training set size of 200. . .\n",
      "Trained model in \t\t\t\t\t0.0017\n",
      "Made predictions on training set in: \t\t\t0.0003\n",
      "F1 score for training set: \t\t\t\t1.0000\n",
      "Made predictions on test set in: \t\t\t0.0004\n",
      "F1 score for test set: \t\t\t\t\t0.7132\n",
      "\n",
      "Training a DecisionTreeClassifier using a training set size of 300. . .\n",
      "Trained model in \t\t\t\t\t0.0022\n",
      "Made predictions on training set in: \t\t\t0.0003\n",
      "F1 score for training set: \t\t\t\t1.0000\n",
      "Made predictions on test set in: \t\t\t0.0003\n",
      "F1 score for test set: \t\t\t\t\t0.7167\n",
      "\n",
      "-----------------------------------------------\n",
      "Statistics for DecisionTreeClassifier model. . .\n",
      "Mean training time: 0.0019\n",
      "Mean prediction time: 0.0004\n",
      "Mean F1 score for training sets: 1.0000\n",
      "Mean testing time: 0.0004\n",
      "Mean F1 score for test sets: 0.7080\n",
      "-----------------------------------------------\n",
      "\n",
      "Confusion Matrix\n",
      "Baseline for train and test set: 0.0, 0.0 \n",
      "\n"
     ]
    },
    {
     "data": {
      "image/png": "[encoded data removed]",
      "text/plain": [
       "<matplotlib.figure.Figure at 0x11b4b8190>"
      ]
     },
     "metadata": {},
     "output_type": "display_data"
    }
   ],
   "source": [
    "# Run functions for @clf_C - Decision Tree Classifier\n",
    "# Train and predict @clf_C on training ALL predefined trainng set sizes\n",
    "train_pred_all(clf_C)\n",
    "\n",
    "# Create array of models results\n",
    "clf_C_info = [[0.0019, 0.0016, 0.0021],\n",
    "              [0.0005, 0.0003, 0.0005],\n",
    "              [1.0, 1.0, 1.0,],\n",
    "              [0.0003, 0.0005, 0.0003],\n",
    "              [0.6942, 0.7132, 0.7167]]\n",
    "\n",
    "print \"-----------------------------------------------\"\n",
    "# Print mean results over thee three training sets\n",
    "clf_stats_all(clf_C, clf_C_info)\n",
    "print \"-----------------------------------------------\"\n",
    "\n",
    "# Print confusion matrix and plot\n",
    "plot_mat(clf_C)"
   ]
  },
  {
   "cell_type": "code",
   "execution_count": 303,
   "metadata": {
    "collapsed": false
   },
   "outputs": [
    {
     "data": {
      "text/plain": [
       "4.8688225872984034"
      ]
     },
     "execution_count": 303,
     "metadata": {},
     "output_type": "execute_result"
    }
   ],
   "source": [
    "# Average distance from test point to training point\n",
    "distances, indices = clf_B.kneighbors(X_test)\n",
    "np.mean(distances)"
   ]
  },
  {
   "cell_type": "markdown",
   "metadata": {},
   "source": [
    "### Logistic Regression: \n",
    "Model performance for training sets of sizes 100, 200, and 300."
   ]
  },
  {
   "cell_type": "code",
   "execution_count": 304,
   "metadata": {
    "collapsed": false
   },
   "outputs": [
    {
     "name": "stdout",
     "output_type": "stream",
     "text": [
      "Training a LogisticRegression using a training set size of 100. . .\n",
      "Trained model in \t\t\t\t\t0.0024\n",
      "Made predictions on training set in: \t\t\t0.0012\n",
      "F1 score for training set: \t\t\t\t0.8571\n",
      "Made predictions on test set in: \t\t\t0.0003\n",
      "F1 score for test set: \t\t\t\t\t0.7612\n",
      "\n",
      "Training a LogisticRegression using a training set size of 200. . .\n",
      "Trained model in \t\t\t\t\t0.0034\n",
      "Made predictions on training set in: \t\t\t0.0005\n",
      "F1 score for training set: \t\t\t\t0.8380\n",
      "Made predictions on test set in: \t\t\t0.0004\n",
      "F1 score for test set: \t\t\t\t\t0.7794\n",
      "\n",
      "Training a LogisticRegression using a training set size of 300. . .\n",
      "Trained model in \t\t\t\t\t0.0050\n",
      "Made predictions on training set in: \t\t\t0.0026\n",
      "F1 score for training set: \t\t\t\t0.8381\n",
      "Made predictions on test set in: \t\t\t0.0003\n",
      "F1 score for test set: \t\t\t\t\t0.7910\n",
      "\n",
      "-----------------------------------------------\n",
      "Statistics for LogisticRegression model. . .\n",
      "Mean training time: 0.0030\n",
      "Mean prediction time: 0.0005\n",
      "Mean F1 score for training sets: 0.8426\n",
      "Mean testing time: 0.0005\n",
      "Mean F1 score for test sets: 0.7772\n",
      "-----------------------------------------------\n"
     ]
    }
   ],
   "source": [
    "# Run functions for @clf_D - Logistic Regression\n",
    "# Train and predict @clf_D on training ALL predefined trainng set sizes\n",
    "train_pred_all(clf_D)\n",
    "\n",
    "# Create array of models results\n",
    "clf_D_info = [[0.0023, 0.0020, 0.0046],\n",
    "              [0.0007, 0.0003, 0.0005],\n",
    "              [0.8517, 0.8380, 0.8381,],\n",
    "              [0.0003, 0.0007, 0.0004],\n",
    "              [0.7612, 0.7794, 0.7910]]\n",
    "\n",
    "print \"-----------------------------------------------\"\n",
    "# Print mean results over thee three training sets\n",
    "clf_stats_all(clf_D, clf_D_info)\n",
    "print \"-----------------------------------------------\""
   ]
  },
  {
   "cell_type": "markdown",
   "metadata": {},
   "source": [
    "### *Gaussian Naive Bayes:*\n",
    "Model performance for training sets of sizes 100, 200, and 300."
   ]
  },
  {
   "cell_type": "code",
   "execution_count": 305,
   "metadata": {
    "collapsed": false,
    "scrolled": false
   },
   "outputs": [
    {
     "name": "stdout",
     "output_type": "stream",
     "text": [
      "Training a GaussianNB using a training set size of 100. . .\n",
      "Trained model in \t\t\t\t\t0.0024\n",
      "Made predictions on training set in: \t\t\t0.0006\n",
      "F1 score for training set: \t\t\t\t0.8550\n",
      "Made predictions on test set in: \t\t\t0.0004\n",
      "F1 score for test set: \t\t\t\t\t0.7481\n",
      "\n",
      "Training a GaussianNB using a training set size of 200. . .\n",
      "Trained model in \t\t\t\t\t0.0010\n",
      "Made predictions on training set in: \t\t\t0.0005\n",
      "F1 score for training set: \t\t\t\t0.8321\n",
      "Made predictions on test set in: \t\t\t0.0004\n",
      "F1 score for test set: \t\t\t\t\t0.7132\n",
      "\n",
      "Training a GaussianNB using a training set size of 300. . .\n",
      "Trained model in \t\t\t\t\t0.0012\n",
      "Made predictions on training set in: \t\t\t0.0006\n",
      "F1 score for training set: \t\t\t\t0.8088\n",
      "Made predictions on test set in: \t\t\t0.0004\n",
      "F1 score for test set: \t\t\t\t\t0.7500\n",
      "\n",
      "\n",
      "-----------------------------------------------\n",
      "Statistics for GaussianNB model. . .\n",
      "Mean training time: 0.0016\n",
      "Mean prediction time: 0.0005\n",
      "Mean F1 score for training sets: 0.8320\n",
      "Mean testing time: 0.0005\n",
      "Mean F1 score for test sets: 0.7350\n",
      "-----------------------------------------------\n"
     ]
    }
   ],
   "source": [
    "train_pred_all(clf_E)\n",
    "\n",
    "# Create array of models results\n",
    "clf_E_info = [[0.0025, 0.0011, 0.0013],\n",
    "              [0.0006, 0.0005, 0.0005],\n",
    "              [0.8550, 0.8321, 0.8088,],\n",
    "              [0.0004, 0.0007, 0.0005],\n",
    "              [0.7418, 0.7132, 0.7500]]\n",
    "\n",
    "print \"\\n-----------------------------------------------\"\n",
    "# Print mean results over thee three training sets\n",
    "clf_stats_all(clf_E, clf_E_info)\n",
    "print \"-----------------------------------------------\""
   ]
  },
  {
   "cell_type": "markdown",
   "metadata": {},
   "source": [
    "## Tabular Results"
   ]
  },
  {
   "cell_type": "markdown",
   "metadata": {},
   "source": [
    "### <center>Classifer 1 - Support Vector Machine</center>\n",
    "\n",
    "| Training Set Size | Training Time | Prediction Time (test) | F<sub>1</sub> Score (train) | F<sub>1</sub> Score (test) |\n",
    "| :---------------: | :---------------------: | :--------------------: | :--------------: | :-------------: |\n",
    "| 100                |      0.0074             |           0.0007       |    0.8806        |         0.7463  |\n",
    "| 200               |        0.0220           |            0.0010      |    0.8622        |    0.7465       |\n",
    "| 300               |       0.0617            |          0.0012        |    0.8421        |    0.7862       |\n",
    "| **MEAN**          |     *0.0304*            |    *0.0010*            |   *0.8616*       |     *0.7585*    |\n",
    "\n",
    "### <center>Classifer 2 - K Nearest Neighbor Classifier</center>\n",
    "\n",
    "| Training Set Size | Training Time | Prediction Time (test) | F<sub>1</sub> Score (train) | F<sub>1</sub> Score (test) |\n",
    "| :---------------: | :---------------------: | :--------------------: | :--------------: | :-------------: |\n",
    "|100                 |       0.0013            |    0.0015              |   0.7972         |     0.7068      |\n",
    "| 200               |     0.0008              |    0.0025              |   0.8571         |     0.7121      |\n",
    "| 300               |       0.0010            |    0.0065              |   0.8722         |     0.7482      |\n",
    "| **MEAN**          |       *0.0010*          |    *0.0035*            |   *0.8422*       |    *0.7482*     |\n",
    "\n",
    "### <center>Classifer 3 - Decision Tree Classifier</center>\n",
    "\n",
    "| Training Set Size | Training Time | Prediction Time (test) | F<sub>1</sub> Score (train) | F<sub>1</sub> Score (test) |\n",
    "| :---------------: | :---------------------: | :--------------------: | :--------------: | :-------------: |\n",
    "| 100               |          0.0019         |         0.0003         |      1.0000      |     0.6942      |\n",
    "| 200               |          0.0016         |         0.0005         |      1.0000      |     0.7132      |\n",
    "| 300               |          0.0021         |         0.0003         |      1.0000      |     0.7167      |\n",
    "| **MEAN**          |       *0.0019*          |    *0.0004*            |   *1.0000*       |    *0.7080*     |\n",
    "\n",
    "### <center>Classifer 4 - Logistic Regression Classifier</center>\n",
    "\n",
    "| Training Set Size | Training Time | Prediction Time (test) | F<sub>1</sub> Score (train) | F<sub>1</sub> Score (test) |\n",
    "| :---------------: | :---------------------: | :--------------------: | :--------------: | :-------------: |\n",
    "| 100               |          0.0023         |         0.0007         |      0.8517      |     0.7612      |\n",
    "| 200               |          0.0020         |         0.0003         |      0.8380      |     0.7794      |\n",
    "| 300               |          0.0046         |         0.0005         |      0.8381      |     0.7910      |\n",
    "| **MEAN**          |       *0.0030*          |    *0.0005*            |   *0.8426*       |    *0.7772     |\n",
    "\n",
    "### <center>Classifer 5 - Guassian Naive Bayes</center>\n",
    "\n",
    "| Training Set Size | Training Time | Prediction Time (test) | F<sub>1</sub> Score (train) | F<sub>1</sub> Score (test) |\n",
    "| :---------------: | :---------------------: | :--------------------: | :--------------: | :-------------: |\n",
    "| 100               |          0.0022         |         0.0005         |      0.8550      |     0.7481      |\n",
    "| 200               |          0.0011         |         0.0004         |      0.8321      |     0.7132      |\n",
    "| 300               |          0.0010         |         0.0004         |      0.8088      |     0.7500      |\n",
    "| **MEAN**          |       *0.0016*          |    *0.0005*            |   *0.8320*       |    *0.7350*     |"
   ]
  },
  {
   "cell_type": "markdown",
   "metadata": {},
   "source": [
    "### Compare classifiers by their means\n",
    "Comparing the classifiers by their aggregated averages over all three sample sizes we can gauge the models fit in terms of speed and strength."
   ]
  },
  {
   "cell_type": "code",
   "execution_count": 306,
   "metadata": {
    "collapsed": false
   },
   "outputs": [
    {
     "name": "stdout",
     "output_type": "stream",
     "text": [
      "Mean Training Time:\n",
      "\tSVC: \t\t\t\t0.0027\n",
      "\tKNN: \t\t\t\t0.0047\n",
      "\tDT: \t\t\t\t0.0004\n",
      "\tLR: \t\t\t\t0.0005\n",
      "\tNB: \t\t\t\t0.0005\n",
      "\tLowest mean training time: \n",
      "\t=> Decision Tree\n",
      "\n",
      "Mean Prediction Time for Training Set:\n",
      "\tSVC: \t\t\t\t0.0027\n",
      "\tKNN: \t\t\t\t0.0047\n",
      "\tDT: \t\t\t\t0.0004\n",
      "\tLR: \t\t\t\t0.0005\n",
      "\tNB: \t\t\t\t0.0005\n",
      "\tLowest mean prediction time for training: \n",
      "\t=> Decision tree\n",
      "\n",
      "Mean F1 Score for Training Set:\n",
      "\tSVC: \t\t\t\t0.8616\n",
      "\tKNN: \t\t\t\t0.8422\n",
      "\tDT: \t\t\t\t1.0000\n",
      "\tLR: \t\t\t\t0.8426\n",
      "\tNB: \t\t\t\t0.8320\n",
      "\tHighest mean F1 score for training: \n",
      "\t=> SVC*\n",
      "\n",
      "Mean Prediction Time for Test Set:\n",
      "\tSVC: \t\t\t\t0.0013\n",
      "\tKNN: \t\t\t\t0.0021\n",
      "\tDT: \t\t\t\t0.0004\n",
      "\tLR: \t\t\t\t0.0005\n",
      "\tNB: \t\t\t\t0.0005\n",
      "\tLowest mean prediction time for testing: \n",
      "\t=> Decision Tree\n",
      "\n",
      "Mean F1 Score for Test Set:\n",
      "\tSVC: \t\t\t\t0.7584\n",
      "\tKNN: \t\t\t\t0.7224\n",
      "\tDT: \t\t\t\t0.7080\n",
      "\tLR: \t\t\t\t0.7772\n",
      "\tNB: \t\t\t\t0.7350\n",
      "\tHighest mean F1 score for testing: \n",
      "\t=> Logistic Regression\n"
     ]
    }
   ],
   "source": [
    "def get_comparison_info(name, i):\n",
    "    '''Computes and prints mean results by training size to compare models'''\n",
    "    print name\n",
    "    print \"\\tSVC: \\t\\t\\t\\t{:,.4f}\".format(np.mean(clf_A_info[i]))\n",
    "    print \"\\tKNN: \\t\\t\\t\\t{:,.4f}\".format(np.mean(clf_B_info[i]))\n",
    "    print \"\\tDT: \\t\\t\\t\\t{:,.4f}\".format(np.mean(clf_C_info[i]))\n",
    "    print \"\\tLR: \\t\\t\\t\\t{:,.4f}\".format(np.mean(clf_D_info[i]))\n",
    "    print \"\\tNB: \\t\\t\\t\\t{:,.4f}\".format(np.mean(clf_E_info[i]))\n",
    "\n",
    "\n",
    "get_comparison_info(\"Mean Training Time:\", 1)\n",
    "print \"\\tLowest mean training time: \\n\\t=> Decision Tree\\n\"\n",
    "get_comparison_info(\"Mean Prediction Time for Training Set:\", 1)\n",
    "print \"\\tLowest mean prediction time for training: \\n\\t=> Decision tree\\n\"\n",
    "get_comparison_info(\"Mean F1 Score for Training Set:\", 2)\n",
    "print \"\\tHighest mean F1 score for training: \\n\\t=> SVC*\\n\"\n",
    "get_comparison_info(\"Mean Prediction Time for Test Set:\", 3)\n",
    "print \"\\tLowest mean prediction time for testing: \\n\\t=> Decision Tree\\n\"\n",
    "get_comparison_info(\"Mean F1 Score for Test Set:\", 4)\n",
    "print \"\\tHighest mean F1 score for testing: \\n\\t=> Logistic Regression\""
   ]
  },
  {
   "cell_type": "markdown",
   "metadata": {},
   "source": [
    "## Variance Scores\n",
    "The calculated variance scores for the classifiers explain the strength of the relationship between X and Y. A score of 1 suggests a perfect relationship, while a score of 0 suggests no linear relationship is present."
   ]
  },
  {
   "cell_type": "code",
   "execution_count": 307,
   "metadata": {
    "collapsed": false
   },
   "outputs": [
    {
     "name": "stdout",
     "output_type": "stream",
     "text": [
      "Support Vector Machine Scores...\n",
      "Train accuracy 0.760000\n",
      "Test accuracy 0.684211\n",
      "\n",
      "Nearest Neighbor Classifier...\n",
      "Train accuracy 0.806667\n",
      "Test accuracy 0.631579\n",
      "\n",
      "Decision Tree Classifier...\n",
      "Train accuracy 1.000000\n",
      "Test accuracy 0.642105\n",
      "\n",
      "Logistic Regression Classifier...\n",
      "Train accuracy 0.756667\n",
      "Test accuracy 0.705263\n",
      "\n",
      "Naive Bayes Classifier...\n",
      "Train accuracy 0.740000\n",
      "Test accuracy 0.642105\n"
     ]
    }
   ],
   "source": [
    "print \"Support Vector Machine Scores...\"\n",
    "print \"Train accuracy %f\" %clf_A.score(X_train, y_train)\n",
    "print \"Test accuracy %f\"%clf_A.score(X_test, y_test)\n",
    "\n",
    "print \"\\nNearest Neighbor Classifier...\"\n",
    "print \"Train accuracy %f\" %clf_B.score(X_train,y_train)\n",
    "print \"Test accuracy %f\"%clf_B.score(X_test,y_test)\n",
    "\n",
    "print\"\\nDecision Tree Classifier...\"\n",
    "print \"Train accuracy %f\" %clf_C.score(X_train,y_train)\n",
    "print \"Test accuracy %f\"%clf_C.score(X_test,y_test)\n",
    "\n",
    "print\"\\nLogistic Regression Classifier...\"\n",
    "print \"Train accuracy %f\" %clf_D.score(X_train,y_train)\n",
    "print \"Test accuracy %f\"%clf_D.score(X_test,y_test)\n",
    "\n",
    "print\"\\nNaive Bayes Classifier...\"\n",
    "print \"Train accuracy %f\" %clf_E.score(X_train,y_train)\n",
    "print \"Test accuracy %f\"%clf_E.score(X_test,y_test)"
   ]
  },
  {
   "cell_type": "markdown",
   "metadata": {},
   "source": [
    "## Probability Calibration Curves\n",
    "\n",
    "Looking at our various classification models, we can predict not only the class label but also the associated probability. \n",
    "\n",
    "Code sourced and adapted from scikit-learn documentation: http://scikit-learn.org/stable/auto_examples/calibration/plot_calibration_curve.html#example-calibration-plot-calibration-curve-py"
   ]
  },
  {
   "cell_type": "code",
   "execution_count": 308,
   "metadata": {
    "collapsed": false
   },
   "outputs": [
    {
     "name": "stdout",
     "output_type": "stream",
     "text": [
      "Automatically created module for IPython interactive environment\n"
     ]
    },
    {
     "data": {
      "image/png": "[encoded data removed]",
      "text/plain": [
       "<matplotlib.figure.Figure at 0x11be0a5d0>"
      ]
     },
     "metadata": {},
     "output_type": "display_data"
    }
   ],
   "source": [
    "print(__doc__)\n",
    "\n",
    "# Adapted from scikit learn documentation\n",
    "# Author: Jan Hendrik Metzen <jhm@informatik.uni-bremen.de>\n",
    "# License: BSD Style.\n",
    "\n",
    "# Create instances of training and testing data\n",
    "# For simplicity purposes, I choose to use a training size of 95 and \n",
    "# mirror the test/ training data\n",
    "X_train_cal = X_train_100\n",
    "X_test_cal = X_test\n",
    "y_train_cal = y_train_100\n",
    "y_test_cal = y_test\n",
    "\n",
    "# Create classifiers\n",
    "clf_lr = LogisticRegression() # Threw in a regression model as baseline\n",
    "clf_svc = SVC(random_state=0)\n",
    "clf_knn = neighbors.KNeighborsClassifier()\n",
    "clf_tree = tree.DecisionTreeClassifier(random_state=0)\n",
    "gnb = GaussianNB()\n",
    "#rfc = RandomForestClassifier(n_estimators=100)\n",
    "\n",
    "\n",
    "###############################################################################\n",
    "# Plot calibration plots\n",
    "\n",
    "plt.figure(figsize=(10, 10))\n",
    "ax1 = plt.subplot2grid((3, 1), (0, 0), rowspan=2)\n",
    "ax2 = plt.subplot2grid((3, 1), (2, 0))\n",
    "\n",
    "ax1.plot([0, 1], [0, 1], \"k:\", label=\"Perfectly calibrated\")\n",
    "for clf, name in [(clf_lr, 'Logistic'),\n",
    "                  (clf_svc, 'Support Vector'),\n",
    "                  (clf_knn, 'K nearest neighbors'),\n",
    "                  (clf_tree, 'Decision tree')]:\n",
    "    clf.fit(X_train_cal, y_train_cal)\n",
    "    if hasattr(clf, \"predict_proba\"):\n",
    "        prob_pos = clf.predict_proba(X_test)[:, -1]\n",
    "    else:  # use decision function\n",
    "        prob_pos = clf.decision_function(X_test)\n",
    "        prob_pos = \\\n",
    "            (prob_pos - prob_pos.min()) / (prob_pos.max() - prob_pos.min())\n",
    "    fraction_of_positives, mean_predicted_value = \\\n",
    "        calibration_curve(y_test, prob_pos, n_bins=2)\n",
    "\n",
    "    ax1.plot(mean_predicted_value, fraction_of_positives, \"s-\",\n",
    "             label=\"%s\" % (name))\n",
    "\n",
    "    ax2.hist(prob_pos, range=(0, 1), bins=3, label=[name],\n",
    "             histtype=\"step\", lw=2)\n",
    "\n",
    "ax1.set_ylabel(\"Fraction of positives\")\n",
    "ax1.set_ylim([-0.05, 1.05])\n",
    "ax1.legend(loc='best', fancybox=True, framealpha=0.5)\n",
    "ax1.set_title('Calibration plots  (reliability curve)')\n",
    "\n",
    "ax2.set_xlabel(\"Mean predicted value\")\n",
    "ax2.set_ylabel(\"Count\")\n",
    "ax2.legend(loc='best', fancybox=True, framealpha=0.5)\n",
    "\n",
    "plt.tight_layout()\n",
    "plt.show()"
   ]
  },
  {
   "cell_type": "markdown",
   "metadata": {},
   "source": [
    "# V. Choosing the Best Model\n",
    "In this final section, you will choose from the three supervised learning models the *best* model to use on the student data. You will then perform a grid search optimization for the model over the entire training set (`X_train` and `y_train`) by tuning at least one parameter to improve upon the untuned model's F<sub>1</sub> score. "
   ]
  },
  {
   "cell_type": "markdown",
   "metadata": {},
   "source": [
    "## Most Appropriate Model\n",
    "* *__Question 3__: Based on the experiments you performed earlier, in one to two paragraphs, explain to the board of supervisors what single model you chose as the best model. Which model is generally the most appropriate based on the available data, limited resources, cost, and performance?*\n",
    "\n",
    "I would argue the best model for this dataset is a support vector machine. Of the three models I tested, the support vector machine yielded the highest F<sub>1</sub> score over all three training sizes. \n",
    "\n",
    "The decision tree model and K nearest neighbors classifier performed weakly in contrast to the SVM. Though the two classifiers performed faster in training in prediction, they both scored low in their respected F<sub>1</sub> scores. The Decision Tree Model can more notably be assumed to overfit the data, having an F<sub>1</sub> score of 1.0. \n",
    "\n",
    "As the training size grows, the SVC remains strong. While the change in F<sub>1</sub> score on the training set decreases minimally (approximately 1.5%) the change in F<sub>1</sub> score on the training set increases by approximately 4.9%, outweighing the minimal loss. \n",
    "\n",
    "Based on the available data, limited resources, cost, and performance I would select the SVM as the most appropriate model. A SVM is computationally efficient as the training set grows while still yielding strong results. "
   ]
  },
  {
   "cell_type": "code",
   "execution_count": 309,
   "metadata": {
    "collapsed": false
   },
   "outputs": [
    {
     "name": "stdout",
     "output_type": "stream",
     "text": [
      "Automatically created module for IPython interactive environment\n"
     ]
    },
    {
     "data": {
      "image/png": "[encoded data removed]",
      "text/plain": [
       "<matplotlib.figure.Figure at 0x11bfd1b90>"
      ]
     },
     "metadata": {},
     "output_type": "display_data"
    }
   ],
   "source": [
    "print(__doc__)\n",
    "\n",
    "import numpy as np\n",
    "import matplotlib.pyplot as plt\n",
    "from sklearn import svm\n",
    "\n",
    "# we create 40 separable points\n",
    "np.random.seed(0)\n",
    "X = np.r_[np.random.randn(20, 2) - [2, 2], np.random.randn(20, 2) + [2, 2]]\n",
    "Y = [0] * 20 + [1] * 20\n",
    "\n",
    "# fit the model\n",
    "clf = svm.SVC(kernel='linear')\n",
    "clf.fit(X, Y)\n",
    "\n",
    "# get the separating hyperplane\n",
    "w = clf.coef_[0]\n",
    "a = -w[0] / w[1]\n",
    "xx = np.linspace(-5, 5)\n",
    "yy = a * xx - (clf.intercept_[0]) / w[1]\n",
    "\n",
    "# plot the parallels to the separating hyperplane that pass through the\n",
    "# support vectors\n",
    "b = clf.support_vectors_[0]\n",
    "yy_down = a * xx + (b[1] - a * b[0])\n",
    "b = clf.support_vectors_[-1]\n",
    "yy_up = a * xx + (b[1] - a * b[0])\n",
    "\n",
    "# plot the line, the points, and the nearest vectors to the plane\n",
    "plt.plot(xx, yy, 'k-')\n",
    "plt.plot(xx, yy_down, 'k--')\n",
    "plt.plot(xx, yy_up, 'k--')\n",
    "\n",
    "plt.scatter(clf.support_vectors_[:, 0], clf.support_vectors_[:, 1],\n",
    "            s=80, facecolors='none')\n",
    "plt.scatter(X[:, 0], X[:, 1], c=Y, cmap=plt.cm.Paired)\n",
    "\n",
    "plt.axis('tight')\n",
    "plt.show()"
   ]
  },
  {
   "cell_type": "markdown",
   "metadata": {},
   "source": [
    "## Model in Layman's Terms\n",
    "* *__Question 4__: In one to two paragraphs, explain to the board of directors in layman's terms how the final model chosen is supposed to work. For example if you've chosen to use a decision tree or a support vector machine, how does the model go about making a prediction?*\n",
    "\n",
    "### What is a SVM?\n",
    "\n",
    "A support vector machine is a learning algorithm that receives data as input and outputs a function which can be used to predict future data. SVMs maximize the margin around a line (or in more than two dimensions, hyperplanes) when their are many possible solutions, therefor defining the best way to *linearly separate the data*.\n",
    "\n",
    "When we want to make a new prediction on a student, the SVM will output what group the student belongs too: the passing students or failing students. This prediction is determined by a calculated divide among the two groups (pass/fail). \n",
    "\n",
    "In a linear function, the separator is expressed as `ax + by = c` such that:\n",
    "\n",
    "   a<span style=\"color:red\">x</span> + b<span style=\"color:red\">y</span> ≥ c, for <span style=\"color:red\">red</span> points\n",
    "   \n",
    "   a<span style=\"color:blue\">x</span> + b<span style=\"color:blue\">y</span> ≤ c, for <span style=\"color:blue\">green</span> points\n",
    "   \n",
    "In the case with students passing, we are given data for a set of students. The data includes age, health, school, number of failures, etc. These attributes become features to collectively distinguish and predict aganinst the target variable which is if the student passed or not. The goal is to classify these two groups of students- those who passed and those who did not- so we can distinguish them from another and create a prediction mechanism.\n",
    "\n",
    "Below is a modeled SVM, displaying three support vectors (credit OpenCV). \n",
    "\n",
    "![Support Vector Model](http://docs.opencv.org/2.4/_images/optimal-hyperplane.png)\n",
    "\n",
    "### The Kernel Trick\n",
    "SVMs are great but in the real world, not all data is optimally seperated linearly. This is how the kernal trick comes in! The **Kernel Trick** essentially allows you to build a more optimal division where your are not bound to only linear models. The model works by mapping data on different dimensions (think graphically by x-y-z) so the points are seperable. \n",
    "\n",
    "![Kernel Trick](https://www.dtreg.com/uploaded/pageimg/SvmDimensionMap.jpg)"
   ]
  },
  {
   "cell_type": "markdown",
   "metadata": {},
   "source": [
    "# VI. Model Tuning\n",
    "\n",
    "Below the chosen model is fine tuned. Using [grid search](http://scikit-learn.org/stable/modules/generated/sklearn.grid_search.GridSearchCV.html) (`GridSearchCV`) with at least one important parameter we use the entire training set to tune the model with at least 3 different values.\n",
    "\n",
    "SVMs have a benefit of which they are very malleable. That is, they can easily be adjusted through parameter settings to yield better results.\n",
    "\n",
    "In the SVM the decision boundary at work is separating the two classes: students who pass and those who fail. To better fit data and maximize the plane, we can test a variety of SVM parameters and call on `GridSearchCV` to run through them and find the optimal solution.\n",
    "\n",
    "#### 1) We can first get the parameter keys of the SVC classifier to select parameters to tune"
   ]
  },
  {
   "cell_type": "code",
   "execution_count": 310,
   "metadata": {
    "collapsed": false
   },
   "outputs": [
    {
     "name": "stdout",
     "output_type": "stream",
     "text": [
      "['kernel', 'C', 'verbose', 'probability', 'degree', 'shrinking', 'max_iter', 'decision_function_shape', 'random_state', 'tol', 'cache_size', 'coef0', 'gamma', 'class_weight']\n"
     ]
    }
   ],
   "source": [
    "print clf_A.get_params().keys()"
   ]
  },
  {
   "cell_type": "markdown",
   "metadata": {},
   "source": [
    "### The parameters I originally tested were: \n",
    "\n",
    "- `C: [1, 10, 100, 1000]`\n",
    "- `gamma: [1e-3, 1e-2]`\n",
    "- `kernel: [rbf, linear, sigmoid, poly]`\n",
    "- `degree: [0, 1, 2, 3]`"
   ]
  },
  {
   "cell_type": "code",
   "execution_count": 80,
   "metadata": {
    "collapsed": false
   },
   "outputs": [
    {
     "name": "stdout",
     "output_type": "stream",
     "text": [
      "Best parameters: {'kernel': 'rbf', 'C': 1, 'gamma': 0.07}\n",
      " Best estimator: SVC(C=1, cache_size=200, class_weight=None, coef0=0.0,\n",
      "  decision_function_shape=None, degree=3, gamma=0.07, kernel='rbf',\n",
      "  max_iter=-1, probability=False, random_state=None, shrinking=True,\n",
      "  tol=0.001, verbose=False)\n",
      " Best score: 0.722972972973\n",
      "\n",
      "Finished in 46.748871088 seconds.\n"
     ]
    }
   ],
   "source": [
    "# Exhaustive search! Helps narrow down our parameters so we can tune more accurately. \n",
    "def svc_param_select(X, y):\n",
    "    start = time()\n",
    "    Cs = [1, 10, 100]\n",
    "    gammas = [0.01, 0, 1, 0.07]\n",
    "    ks = ['sigmoid', 'linear', 'rbf']\n",
    "    coefs = [-100000000, -100, 0, 1, 100]\n",
    "    deg = [1,2,4]\n",
    "    param_grid = {'kernel': ks, 'C': Cs, 'gamma': gammas}\n",
    "    grid_search = GridSearchCV(SVC(), param_grid)\n",
    "    grid_search.fit(X, y)\n",
    "    grid_search.best_params_\n",
    "    end = time()\n",
    "    print \"Best parameters: {}\\n Best estimator: {}\\n Best score: {}\\n\".format(grid_search.best_params_,\n",
    "                                                                               grid_search.best_estimator_,\n",
    "                                                                              grid_search.best_score_,)\n",
    "    print \"Finished in {} seconds.\".format(end-start)\n",
    "\n",
    "svc_param_select(X_train, y_train)"
   ]
  },
  {
   "cell_type": "markdown",
   "metadata": {},
   "source": [
    "#### Initial Evaluation \n",
    "The exhaustive evaluation showed rbf and linear kernels produced maximum results (I ran this on both the test set and training set). I further began to tune my parameters further and focus in on an rbf kernel.\n",
    "\n",
    "\n",
    "#### 2) Now I can apply more precise tuning methods and an F<sub>1</sub> scoring function"
   ]
  },
  {
   "cell_type": "code",
   "execution_count": 382,
   "metadata": {
    "collapsed": false
   },
   "outputs": [
    {
     "name": "stdout",
     "output_type": "stream",
     "text": [
      "\n",
      "Best parameters: {'kernel': 'rbf', 'C': 1, 'gamma': 0.07455550011}\n",
      "\n",
      "Best estimator: SVC(C=1, cache_size=200, class_weight=None, coef0=0.0,\n",
      "  decision_function_shape=None, degree=0, gamma=0.07455550011,\n",
      "  kernel='rbf', max_iter=-1, probability=False, random_state=None,\n",
      "  shrinking=True, tol=0.001, verbose=False)\n",
      "\n",
      "\n",
      "Training a SVC using a training set size of 100. . .\n",
      "Trained model in \t\t\t\t\t0.0015\n",
      "Made predictions on training set in: \t\t\t0.0009\n",
      "F1 score for training set: \t\t\t\t1.0000\n",
      "Made predictions on test set in: \t\t\t0.0013\n",
      "F1 score for test set: \t\t\t\t\t0.7785\n",
      "\n",
      "Training a SVC using a training set size of 200. . .\n",
      "Trained model in \t\t\t\t\t0.0057\n",
      "Made predictions on training set in: \t\t\t0.0039\n",
      "F1 score for training set: \t\t\t\t0.9638\n",
      "Made predictions on test set in: \t\t\t0.0018\n",
      "F1 score for test set: \t\t\t\t\t0.7755\n",
      "\n",
      "Training a SVC using a training set size of 300. . .\n",
      "Trained model in \t\t\t\t\t0.0090\n",
      "Made predictions on training set in: \t\t\t0.0057\n",
      "F1 score for training set: \t\t\t\t0.9559\n",
      "Made predictions on test set in: \t\t\t0.0020\n",
      "F1 score for test set: \t\t\t\t\t0.7945\n",
      "\n"
     ]
    }
   ],
   "source": [
    "# Create the parameter list to tune\n",
    "parameters = [{'C': [1, 0.99, 0.90999999999999999999999999999999, 0.9, 1.01],\n",
    "               'gamma': [0.058, 0.06555, 0.06899999999999, 0.07, 0.07455550011, 0.073458889, 0.1],\n",
    "               'kernel': ['rbf']}]\n",
    "\n",
    "# f1 scoring function using 'make_scorer'\n",
    "f1_scorer = make_scorer(f1_score, pos_label='yes')\n",
    "\n",
    "# Perform grid search on the classifier using the f1_scorer as the scoring method\n",
    "grid_obj = GridSearchCV(clf, parameters, f1_scorer)\n",
    "\n",
    "# Fit the grid search object to the training data and find the optimal parameters\n",
    "grid_obj.fit(X_train, y_train)\n",
    "\n",
    "# Get the estimator\n",
    "clf = grid_obj.best_estimator_\n",
    "print \"\\nBest parameters: {}\\n\\nBest estimator: {}\".format(grid_obj.best_params_,\n",
    "                                                                               grid_obj.best_estimator_,)\n",
    "\n",
    "print\n",
    "clf_arr = [train_predict_noP(clf, X_train_100, y_train_100, X_test, y_test),\n",
    "           train_predict_noP(clf, X_train_200, y_train_200, X_test, y_test),\n",
    "           train_predict_noP(clf, X_train_300, y_train_300, X_test, y_test)]\n",
    "\n",
    "\n",
    "print\n",
    "\n",
    "# Report the final F1 score for training and testing after parameter tuning\n",
    "train_pred_all(clf)"
   ]
  },
  {
   "cell_type": "markdown",
   "metadata": {},
   "source": [
    "#### 3) Comparing tuned model to untuned SVC model"
   ]
  },
  {
   "cell_type": "code",
   "execution_count": 416,
   "metadata": {
    "collapsed": false
   },
   "outputs": [
    {
     "name": "stdout",
     "output_type": "stream",
     "text": [
      "\t\t\t\t\t\t\tTuned Model \t\tOriginal Model\t\tDifference\n",
      "Training Size\n",
      "100\n",
      "\tTrained model in: \t\t\t\t0.0018\t\t\t0.0085\n",
      "\t\tChange in training  time:\t\t\t\t\t\t\t\t78.4943%\n",
      "\n",
      "\tMade predictions on training set in: \t\t0.0010\t\t\t0.0011\n",
      "\t\tChange in prediction time:\t\t\t\t\t\t\t\t10.5743%\n",
      "\n",
      "\tF1 score for training set: \t\t\t1.0000\t\t\t0.8806\n",
      "\t\tChange in F1 score:\t\t\t\t\t\t\t\t\t13.5593%\n",
      "\n",
      "\tMade predictions on test set in: \t\t0.0009\t\t\t0.0010\n",
      "\t\tChange in prediction time:\t\t\t\t\t\t\t\t11.0682%\n",
      "\n",
      "\tF1 score for test set: \t\t\t\t0.7785\t\t\t0.7463\n",
      "\t\tChange in F1 score:\t\t\t\t\t\t\t\t\t4.3221%\n",
      "\n",
      "\n",
      "200\n",
      "\tTrained model in: \t\t\t\t0.0040\t\t\t0.0259\n",
      "\t\tChange in training  time:\t\t\t\t\t\t\t\t84.7078%\n",
      "\n",
      "\tMade predictions on training set in: \t\t0.0028\t\t\t0.0018\n",
      "\t\tChange in prediction time:\t\t\t\t\t\t\t\t-56.2533%\n",
      "\n",
      "\tF1 score for training set: \t\t\t0.9638\t\t\t0.8622\n",
      "\t\tChange in F1 score:\t\t\t\t\t\t\t\t\t11.7813%\n",
      "\n",
      "\tMade predictions on test set in: \t\t0.0014\t\t\t0.0011\n",
      "\t\tChange in prediction time:\t\t\t\t\t\t\t\t-28.0535%\n",
      "\n",
      "\tF1 score for test set: \t\t\t\t0.7755\t\t\t0.7647\n",
      "\t\tChange in F1 score:\t\t\t\t\t\t\t\t\t1.4129%\n",
      "\n",
      "\n",
      "300\n",
      "\tTrained model in: \t\t\t\t0.0079\t\t\t0.0514\n",
      "\t\tChange in training  time:\t\t\t\t\t\t\t\t84.5634%\n",
      "\n",
      "\tMade predictions on training set in: \t\t0.0057\t\t\t0.0059\n",
      "\t\tChange in prediction time:\t\t\t\t\t\t\t\t3.8250%\n",
      "\n",
      "\tF1 score for training set: \t\t\t0.9559\t\t\t0.8421\n",
      "\t\tChange in F1 score:\t\t\t\t\t\t\t\t\t13.5151%\n",
      "\n",
      "\tMade predictions on test set in: \t\t0.0019\t\t\t0.0023\n",
      "\t\tChange in prediction time:\t\t\t\t\t\t\t\t16.1874%\n",
      "\n",
      "\tF1 score for test set: \t\t\t\t0.7945\t\t\t0.7826\n",
      "\t\tChange in F1 score:\t\t\t\t\t\t\t\t\t1.5221%\n",
      "\n",
      "\n",
      "\n",
      "Final Scores for Tuned Model:\n",
      "\n",
      "Made predictions in \t\t\t0.0078\n",
      "Tuned model has a final training f1 score of...\n",
      " 0.9559\n",
      "Made predictions in \t\t\t0.0026\n",
      "Tuned model has a final testing f1 score of...\n",
      " 0.7945\n",
      "\n",
      "\n",
      "Confusion Matrix\n",
      "Baseline for train and test set: 0.0, 0.0 \n",
      "\n"
     ]
    },
    {
     "data": {
      "image/png": "[encoded data removed]",
      "text/plain": [
       "<matplotlib.figure.Figure at 0x11b70bf50>"
      ]
     },
     "metadata": {},
     "output_type": "display_data"
    }
   ],
   "source": [
    "def compare_models(clf1, clf2):\n",
    "    print \"\\t\\t\\t\\t\\t\\t\\tTuned Model \\t\\tOriginal Model\\t\\tDifference\"\n",
    "    print \"Training Size\"\n",
    "    i=0\n",
    "    sizes = 100, 200, 300\n",
    "    \n",
    "    while i<=2:\n",
    "        \n",
    "        print sizes[i]\n",
    "        \n",
    "        print \"\\tTrained model in: \\t\\t\\t\\t{:.4f}\\t\\t\\t{:.4f}\".format(clf1[i][0], clf2[i][0])\n",
    "        print \"\\t\\tChange in training  time:\\t\\t\\t\\t\\t\\t\\t\\t{:.4f}%\\n\".format((clf2[i][0]-clf1[i][0])/clf2[i][0]*100)\n",
    "        \n",
    "        print \"\\tMade predictions on training set in: \\t\\t{:.4f}\\t\\t\\t{:.4f}\".format(clf1[i][1], clf2[i][1])\n",
    "        print \"\\t\\tChange in prediction time:\\t\\t\\t\\t\\t\\t\\t\\t{:.4f}%\".format((clf2[i][1]-clf1[i][1])/clf2[i][1]*100)\n",
    "        \n",
    "        print \"\\n\\tF1 score for training set: \\t\\t\\t{:.4f}\\t\\t\\t{:.4f}\".format(clf1[i][2], clf2[i][2])\n",
    "        print \"\\t\\tChange in F1 score:\\t\\t\\t\\t\\t\\t\\t\\t\\t{:.4f}%\".format((clf2[i][2]-clf1[i][2])/clf2[i][2]*-100)\n",
    "        \n",
    "        print \"\\n\\tMade predictions on test set in: \\t\\t{:.4f}\\t\\t\\t{:.4f}\".format(clf1[i][3], clf2[i][3])\n",
    "        print \"\\t\\tChange in prediction time:\\t\\t\\t\\t\\t\\t\\t\\t{:.4f}%\".format((clf2[i][3]-clf1[i][3])/clf2[i][3]*100)\n",
    "        \n",
    "        print \"\\n\\tF1 score for test set: \\t\\t\\t\\t{:.4f}\\t\\t\\t{:.4f}\".format(clf1[i][4], clf2[i][4])\n",
    "        print \"\\t\\tChange in F1 score:\\t\\t\\t\\t\\t\\t\\t\\t\\t{:.4f}%\\n\".format((clf2[i][4]-clf1[i][4])/clf2[i][4]*-100)\n",
    "        print\n",
    "        i+=1\n",
    "\n",
    "compare_models(clf_arr, clf_A_arr)\n",
    "print \"\\nFinal Scores for Tuned Model:\\n\"\n",
    "print \"Tuned model has a final training f1 score of...\\n {:.4f}\".format(predict_labels(clf, X_train, y_train))\n",
    "print \"Tuned model has a final testing f1 score of...\\n {:.4f}\\n\".format(predict_labels(clf, X_test, y_test))\n",
    "plot_mat(clf)"
   ]
  },
  {
   "cell_type": "markdown",
   "metadata": {},
   "source": [
    "## Final F<sub>1</sub> Score\n",
    "* *__Question 5__: What is the final models's F<sub>1</sub> score for training and testing? How does that score compare to the untunted model?*\n",
    "\n",
    "\n",
    "**Final training** F<sub>1</sub> score: 0.9559\n",
    "\n",
    "**Final testing** F<sub>1</sub> score: 0.7945\n",
    "\n",
    "\n",
    "\n",
    "\n",
    "#### Conclusion\n",
    "\n",
    "- The training F<sub>1</sub> score has **increased** from the untuned model by approximately 14% indicating a stronger fit. The number showed little moved between training set sizes as well. \n",
    "- The training time of the model has also **increased** significantly. Approximately 85%.\n",
    "- The prediction for training and testing **decreased** significantly under a training set size of 200. This could indicate a lag in performance between sample sizes. However, the model performed strongly with a training set size of 300 so it doesn't seem to concerning. \n",
    "- As the sample size grew, the test F<sub>1</sub> increased. This boads well for a large dataset. \n",
    "\n",
    "Overall, the tuned model outperformed the untuned one. Adjusting the parameters (gamma, C, and kernel) proved beneficial. The final F<sub>1</sub> indicated a strong fit to the data. The model achieved a **training set accuracy** of 0.9367 and a **test set accuracy** of 0.6842. This are strong numbers indicating a strong prediction for the classification of a student's success. "
   ]
  }
 ],
 "metadata": {
  "kernelspec": {
   "display_name": "Python 2",
   "language": "python",
   "name": "python2"
  },
  "language_info": {
   "codemirror_mode": {
    "name": "ipython",
    "version": 2
   },
   "file_extension": ".py",
   "mimetype": "text/x-python",
   "name": "python",
   "nbconvert_exporter": "python",
   "pygments_lexer": "ipython2",
   "version": "2.7.12"
  }
 },
 "nbformat": 4,
 "nbformat_minor": 0
}
